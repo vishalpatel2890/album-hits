{
 "cells": [
  {
   "cell_type": "code",
   "execution_count": 371,
   "metadata": {},
   "outputs": [],
   "source": [
    "def compress(uncompressed):\n",
    "    \"\"\"Compress a string to a list of output symbols.\"\"\"\n",
    " \n",
    "    # Build the dictionary.\n",
    "    dict_size = 256\n",
    "#     dictionary = {}\n",
    "    dictionary = dict((chr(i), i) for i in range(dict_size))\n",
    "#     dictionary = dict.fromkeys(string.ascii_lowercase)\n",
    "    # in Python 3: dictionary = {chr(i): i for i in range(dict_size)}\n",
    " \n",
    "    w = \"\"\n",
    "    result = []\n",
    "    for c in uncompressed:\n",
    "        wc = w + c\n",
    "        print(w)\n",
    "        if wc in dictionary:\n",
    "            w = wc\n",
    "        else:\n",
    "            result.append(dictionary[w])\n",
    "            # Add wc to the dictionary.\n",
    "            dictionary[wc] = dict_size\n",
    "            dict_size += 1\n",
    "            w = c\n",
    "    print(dictionary)\n",
    "    # Output the code for w.\n",
    "    if w:\n",
    "        result.append(dictionary[w])\n",
    "    return result"
   ]
  },
  {
   "cell_type": "code",
   "execution_count": null,
   "metadata": {},
   "outputs": [],
   "source": []
  },
  {
   "cell_type": "code",
   "execution_count": 139,
   "metadata": {},
   "outputs": [],
   "source": [
    "def decompress(compressed):\n",
    "    \"\"\"Decompress a list of output ks to a string.\"\"\"\n",
    "    try:\n",
    "        from StringIO import StringIO\n",
    "    except ImportError:\n",
    "        from io import StringIO\n",
    " \n",
    "    # Build the dictionary.\n",
    "    dict_size = 256\n",
    "    dictionary = dict((i, chr(i)) for i in range(dict_size))\n",
    "    # in Python 3: dictionary = {i: chr(i) for i in range(dict_size)}\n",
    " \n",
    "    # use StringIO, otherwise this becomes O(N^2)\n",
    "    # due to string concatenation in a loop\n",
    "    result = StringIO()\n",
    "    w = chr(compressed.pop(0))\n",
    "    result.write(w)\n",
    "    for k in compressed:\n",
    "        if k in dictionary:\n",
    "            entry = dictionary[k]\n",
    "        elif k == dict_size:\n",
    "            entry = w + w[0]\n",
    "        else:\n",
    "            raise ValueError('Bad compressed k: %s' % k)\n",
    "        result.write(entry)\n",
    " \n",
    "        # Add w+entry[0] to the dictionary.\n",
    "        dictionary[dict_size] = w + entry[0]\n",
    "        dict_size += 1\n",
    " \n",
    "        w = entry\n",
    "    return result.getvalue()"
   ]
  },
  {
   "cell_type": "code",
   "execution_count": 241,
   "metadata": {},
   "outputs": [],
   "source": [
    "sia = '''Come on, come on, turn the radio on\n",
    "It's Friday night and it won't be long\n",
    "Gotta do my hair, put my make-up on\n",
    "It's Friday night and it won't be long 'til I\n",
    "Hit the dancefloor\n",
    "Hit the dancefloor\n",
    "I got all I need\n",
    "No I ain't got cash\n",
    "I ain't got cash\n",
    "But I got you baby\n",
    "Baby I don't need dollar bills to have fun tonight\n",
    "(I love cheap thrills!)\n",
    "Baby I don't need dollar bills to have fun tonight\n",
    "(I love cheap thrills!)\n",
    "I don't need no money\n",
    "As long as I can feel the beat\n",
    "I don't need no money\n",
    "As long as I keep dancing\n",
    "Come on come on, turn the radio on\n",
    "It's Saturday and it won't be long\n",
    "Gotta paint my nails, put my high heels on\n",
    "It's Saturday and it won't be long 'til I\n",
    "Hit the dancefloor\n",
    "Hit the dancefloor\n",
    "I got all I need\n",
    "No I ain't got cash\n",
    "I ain't got cash\n",
    "But I got you baby\n",
    "Baby I don't need dollar bills to have fun tonight\n",
    "(I love cheap thrills!)\n",
    "Baby I don't need dollar bills to have fun tonight\n",
    "(I love cheap thrills!)\n",
    "I don't need no money\n",
    "As long as I can feel the beat\n",
    "I don't need no money\n",
    "As long as I keep dancing\n",
    "(I love cheap thrills!)\n",
    "(I love cheap thrills!)\n",
    "I don't need no money'''"
   ]
  },
  {
   "cell_type": "code",
   "execution_count": 279,
   "metadata": {},
   "outputs": [],
   "source": [
    "def calc_compression(lyrics):\n",
    "    joined = ''.join(lyrics.split(' '))\n",
    "    compressed = compress(joined)\n",
    "    return (len(compressed)/len(joined))"
   ]
  },
  {
   "cell_type": "code",
   "execution_count": 287,
   "metadata": {},
   "outputs": [
    {
     "data": {
      "text/plain": [
       "0.4297945205479452"
      ]
     },
     "execution_count": 287,
     "metadata": {},
     "output_type": "execute_result"
    }
   ],
   "source": [
    "calc_compression(summer)"
   ]
  },
  {
   "cell_type": "code",
   "execution_count": 238,
   "metadata": {},
   "outputs": [],
   "source": [
    "tom = '''What you gonna do when you get out of jail?\n",
    "I'm gonna have some fun\n",
    "What do you consider fun?\n",
    "Fun, natural fun\n",
    "I'm in heaven\n",
    "With my boyfriend, my laughing boyfriend\n",
    "There's no beginning and there is no end\n",
    "Time isn't present in that dimension\n",
    "He'll take my arm\n",
    "When we're walkin', rolling and rocking\n",
    "It's one time I'm glad I'm not a man\n",
    "Feels like I'm dreaming, but I'm not sleeping\n",
    "I'm in heaven\n",
    "With the maven of funk mutation\n",
    "Clinton's musicians such as Bootsy Collins\n",
    "Raise expectations to a new intention\n",
    "No one can sing\n",
    "Quite like Smokey, Smokey Robinson\n",
    "Wailin' and shakin' to Bob Marley\n",
    "Reggae's expanding with Sly and Robbie\n",
    "All the weekend\n",
    "Boyfriend was missing\n",
    "I surely miss him\n",
    "The way he'd hold me in his warm arms\n",
    "We went insane when we took cocaine.\n",
    "Stepping in a rhythm to a Kurtis Blow\n",
    "Who needs to think when your feet just go\n",
    "With a hiditihi and a hipitiho\n",
    "Who needs to think when your feet just go\n",
    "Who needs to think when your feet just go\n",
    "James Brown, James Brown\n",
    "James Brown, James Brown\n",
    "If you see him\n",
    "Please remind him, unhappy boyfriend\n",
    "Well he's the genius of love\n",
    "He's got a greater depth of feeling\n",
    "Well he's the genius of love\n",
    "He's so deep'''"
   ]
  },
  {
   "cell_type": "code",
   "execution_count": 246,
   "metadata": {},
   "outputs": [],
   "source": [
    "slim = '''We've come a long long way together,\n",
    "Through the hard times and the good,\n",
    "I have to celebrate you baby,\n",
    "I have to praise you like I should\n",
    "We've come a long long way together,\n",
    "Through the hard times and the good,\n",
    "I have to celebrate you baby,\n",
    "I have to praise you like I should\n",
    "I have to praise you\n",
    "I have to praise you\n",
    "I have to praise you\n",
    "I have to praise you like I should\n",
    "I have to praise you\n",
    "I have to praise you\n",
    "I have to praise you\n",
    "I have to praise you\n",
    "We've come a long long way together,\n",
    "Through the hard times and the good,\n",
    "I have to celebrate you baby,\n",
    "I have to praise you like I shouldddddd\n",
    "I have to praise you\n",
    "I have to praise you\n",
    "I have to praise you\n",
    "I have to praise you\n",
    "I have to praise you like I should\n",
    "I have to pra'''"
   ]
  },
  {
   "cell_type": "code",
   "execution_count": 249,
   "metadata": {},
   "outputs": [],
   "source": [
    "kylie = '''La la la la la la la la\n",
    "La la la la la la la la\n",
    "La la la la la la la la\n",
    "La la la la la la la la\n",
    "I just can't get you out of my head\n",
    "Boy your loving is all I think about\n",
    "I just can't get you out of my head\n",
    "Boy it's more than I dare to think about\n",
    "La la la la la la la la\n",
    "La la la la la la la la\n",
    "I just can't get you out of my head\n",
    "Boy your loving is all I think about\n",
    "I just can't get you out of my head\n",
    "Boy it's more than I dare to think about\n",
    "Every night, every day\n",
    "Just to be there in your arms\n",
    "Won't you stay\n",
    "Won't you lay\n",
    "stay forever and ever and ever and ever\n",
    "La la la la la la la la\n",
    "La la la la la la la la\n",
    "La la la la la la la la\n",
    "La la la la la la la la\n",
    "I just can't get you out of my head\n",
    "Boy your loving is all I think about\n",
    "I just can't get you out of my head\n",
    "Boy it's more than I dare to think about\n",
    "There's a dark secret in me\n",
    "Don't leave me locked in your heart\n",
    "Set me free\n",
    "Feel the need in me\n",
    "Set me free\n",
    "Stay forever\n",
    "And ever and ever and ever\n",
    "La la la la la la la la\n",
    "La la la la la la la la\n",
    "La la la la la la la la'''"
   ]
  },
  {
   "cell_type": "code",
   "execution_count": 254,
   "metadata": {},
   "outputs": [],
   "source": [
    "summer = '''Ooh\n",
    "It's so good, it's so good\n",
    "It's so good, it's so good\n",
    "It's so good\n",
    "Ooh\n",
    "Heaven knows, heaven knows\n",
    "Heaven knows, heaven knows\n",
    "Heaven knows\n",
    "Ooh\n",
    "I feel love, I feel love\n",
    "I feel love, I feel love\n",
    "I feel love\n",
    "I feel love, I feel love, I feel love\n",
    "Ooh\n",
    "Fallin' free, fallin' free\n",
    "Fallin' free, fallin' free\n",
    "Fallin' free\n",
    "Ooh\n",
    "You and me, you and me\n",
    "You and me, you and me\n",
    "You and me\n",
    "Ooh\n",
    "I feel love, I feel love\n",
    "I feel love, I feel love\n",
    "I feel love\n",
    "I feel love, I feel love, I feel love\n",
    "Ooh\n",
    "I'll get you, I'll get you\n",
    "I'll get you, I'll get you\n",
    "I'll get you\n",
    "Ooh\n",
    "What you do, what you do\n",
    "What you do, what you do\n",
    "What you do\n",
    "Ooh\n",
    "I feel love, I feel love\n",
    "I feel love, I feel love\n",
    "I feel love\n",
    "I feel love, I fe'''"
   ]
  },
  {
   "cell_type": "code",
   "execution_count": 257,
   "metadata": {},
   "outputs": [],
   "source": [
    "beatles = '''Love, love, love, love, love, love, love, love, love.\n",
    "There's nothing you can do that can't be done.\n",
    "Nothing you can sing that can't be sung.\n",
    "Nothing you can say, but you can learn\n",
    "How to play the game\n",
    "It's easy.\n",
    "Nothing you can make that can't be made.\n",
    "No one you can save that can't be saved.\n",
    "Nothing you can do, but you can learn\n",
    "How to be you in time\n",
    "It's easy.\n",
    "All you need is love, all you need is love,\n",
    "All you need is love, love. Love is all you need.\n",
    "Love, love, love, love, love, love, love, love, love.\n",
    "All you need is love, all you need is love,\n",
    "All you need is love, love. Love is all you need.\n",
    "There's nothing you can know that isn't known.\n",
    "Nothing you can see that isn't shown.\n",
    "There's nowhere you can be that isn't where\n",
    "You're meant to be\n",
    "It's easy.\n",
    "All you need is love, all you need is love,\n",
    "All you need is love, love. Love is all you need.\n",
    "All you need is love. (All together now).\n",
    "All you need is love. (Everybody).\n",
    "All you need is love, love. Love is all you need.\n",
    "Love is all you need.\n",
    "Love is all you need'''"
   ]
  },
  {
   "cell_type": "code",
   "execution_count": 366,
   "metadata": {},
   "outputs": [],
   "source": [
    "gucci = '''Gucci Gang, ooh, yeah, Lil Pump, yeah, Gucci Gang, ooh\n",
    "Gucci gang, Gucci gang, Gucci gang, Gucci gang\n",
    "Gucci gang, Gucci gang, Gucci gang (Gucci gang!)\n",
    "Spend ten racks on a new chain\n",
    "My bitch love do cocaine, ooh\n",
    "I fuck a bitch, I forgot her name\n",
    "I can't buy a bitch no wedding ring\n",
    "Rather go and buy Balmains\n",
    "Gucci gang, Gucci gang, Gucci gang (Gucci gang!)\n",
    "Gucci gang, Gucci gang, Gucci gang, Gucci gang\n",
    "Gucci gang, Gucci gang, Gucci gang (Gucci gang!)\n",
    "Spend ten racks on a new chain\n",
    "My bitch love do cocaine, ooh\n",
    "I fuck a bitch, I forgot her name, yeah\n",
    "I can't buy no bitch no wedding ring\n",
    "Rather go and buy Balmains, aye\n",
    "Gucci gang, Gucci gang, Gucci gang\n",
    "My lean cost more than your rent, ooh\n",
    "Your mama still live in a tent, yeah\n",
    "Still slanging dope in the jets, huh\n",
    "Me and my grandma take meds, ooh\n",
    "None of this shit be new to me\n",
    "Fucking my teacher, call it tutory\n",
    "Bought some red bottoms, cost hella Gs\n",
    "Fuck your airline, fuck your company\n",
    "Bitch, your breath smell like some cigarettes\n",
    "I'd rather fuck a bitch from the projects\n",
    "They kicked me out the plane off a Percocet\n",
    "Now Lil Pump fly a private jet\n",
    "Everybody screaming \"fuck West Jet!\"\n",
    "Lil Pump still sell that meth\n",
    "Hunnid on my wrist sippin on Tech\n",
    "Fuck a lil bitch, make her pussy wet\n",
    "Gucci gang, Gucci gang, Gucci gang, Gucci gang\n",
    "Gucci gang, Gucci gang, Gucci gang (Gucci gang!)\n",
    "Spend ten racks on a new chain\n",
    "My bitch love do cocaine, ooh\n",
    "I fuck a bitch, I forgot her name\n",
    "I can't buy a bitch no wedding ring\n",
    "Rather go and buy Balmains\n",
    "Gucci gang, Gucci gang, Gucci gang (Gucci gang!)\n",
    "Gucci gang, Gucci gang, Gucci gang, Gucci gang\n",
    "Gucci gang, Gucci gang, Gucci gang (Gucci gang!)\n",
    "Spend ten racks on a new chain\n",
    "My bitch love do cocaine, ooh\n",
    "I fuck a bitch, I forgot her name\n",
    "I can't buy no bitch no wedding ring\n",
    "Rather go and buy Balmains, aye\n",
    "Gucci gang, Gucci gang, Gucci gang\n",
    "Lil Pump, yeah, Lil Pump, ooh'''"
   ]
  },
  {
   "cell_type": "code",
   "execution_count": 368,
   "metadata": {},
   "outputs": [],
   "source": [
    "world = '''Around the world, around the world \n",
    "Around the world, around the world \n",
    "Around the world, around the world \n",
    "Around the world, around the world\n",
    "Around the world, around the world \n",
    "Around the world, around the world \n",
    "Around the world, around the world \n",
    "Around the world, around the world\n",
    "Around the world, around the world \n",
    "Around the world, around the world \n",
    "Around the world, around the world \n",
    "Around the world, around the world\n",
    "Around the world, around the world \n",
    "Around the world, around the world \n",
    "Around the world, around the world \n",
    "Around the world, around the world\n",
    "Around the world, around the world \n",
    "Around the world, around the world \n",
    "Around the world, around the world \n",
    "Around the world, around the world\n",
    "Around the world, around the world \n",
    "Around the world, around the world \n",
    "Around the world, around the world \n",
    "Around the world, around the world\n",
    "Around the world, around the world \n",
    "Around the world, around the world \n",
    "Around the world, around the world \n",
    "Around the world, around the world\n",
    "Around the world, around the world \n",
    "Around the world, around the world \n",
    "Around the world, around the world \n",
    "Around the world, around the world\n",
    "Around the world, around the world \n",
    "Around the world, around the world \n",
    "Around the world, around the world \n",
    "Around the world, around the world\n",
    "Around the world, around the world \n",
    "Around the world, around the world \n",
    "Around the world, around the world \n",
    "Around the world, around the world\n",
    "Around the world, around the world \n",
    "Around the world, around the world \n",
    "Around the world, around the world \n",
    "Around the world, around the world\n",
    "Around the world, around the world \n",
    "Around the world, around the world \n",
    "Around the world, around the world \n",
    "Around the world, around the world\n",
    "Around the world, around the world \n",
    "Around the world, around the world \n",
    "Around the world, around the world \n",
    "Around the world, around the world\n",
    "Around the world, around the world \n",
    "Around the world, around the world \n",
    "Around the world, around the world \n",
    "Around the world, around the world\n",
    "Around the world, around the world \n",
    "Around the world, around the world \n",
    "Around the world, around the world \n",
    "Around the world, around the world\n",
    "Around the world, around the world \n",
    "Around the world, around the world \n",
    "Around the world, around the world \n",
    "Around the world, around the world\n",
    "Around the world, around the world \n",
    "Around the world, around the world \n",
    "Around the world, around the world \n",
    "Around the world, around the world\n",
    "Around the world, around the world \n",
    "Around the world, around the world \n",
    "Around the world, around the world \n",
    "Around the world, around the world'''"
   ]
  },
  {
   "cell_type": "code",
   "execution_count": 364,
   "metadata": {},
   "outputs": [],
   "source": [
    "from zopfli.zlib import compress\n",
    "from zlib import decompress"
   ]
  },
  {
   "cell_type": "code",
   "execution_count": 365,
   "metadata": {},
   "outputs": [],
   "source": [
    "def zopfli_compress(lyrics):\n",
    "    return 1-len(compress(lyrics))/len(lyrics)"
   ]
  },
  {
   "cell_type": "code",
   "execution_count": 354,
   "metadata": {},
   "outputs": [
    {
     "data": {
      "text/plain": [
       "0.7504854368932039"
      ]
     },
     "execution_count": 354,
     "metadata": {},
     "output_type": "execute_result"
    }
   ],
   "source": [
    "zopfli_compress(beatles)"
   ]
  },
  {
   "cell_type": "code",
   "execution_count": 355,
   "metadata": {
    "scrolled": true
   },
   "outputs": [
    {
     "data": {
      "text/plain": [
       "0.7493212669683258"
      ]
     },
     "execution_count": 355,
     "metadata": {},
     "output_type": "execute_result"
    }
   ],
   "source": [
    "zopfli_compress(sia)"
   ]
  },
  {
   "cell_type": "code",
   "execution_count": 356,
   "metadata": {},
   "outputs": [
    {
     "data": {
      "text/plain": [
       "0.5017094017094017"
      ]
     },
     "execution_count": 356,
     "metadata": {},
     "output_type": "execute_result"
    }
   ],
   "source": [
    "zopfli_compress(tom)"
   ]
  },
  {
   "cell_type": "code",
   "execution_count": 357,
   "metadata": {},
   "outputs": [
    {
     "data": {
      "text/plain": [
       "0.7798254122211445"
      ]
     },
     "execution_count": 357,
     "metadata": {},
     "output_type": "execute_result"
    }
   ],
   "source": [
    "zopfli_compress(kylie)"
   ]
  },
  {
   "cell_type": "code",
   "execution_count": 358,
   "metadata": {},
   "outputs": [
    {
     "data": {
      "text/plain": [
       "0.7934472934472935"
      ]
     },
     "execution_count": 358,
     "metadata": {},
     "output_type": "execute_result"
    }
   ],
   "source": [
    "zopfli_compress(summer)"
   ]
  },
  {
   "cell_type": "code",
   "execution_count": 359,
   "metadata": {
    "scrolled": true
   },
   "outputs": [
    {
     "data": {
      "text/plain": [
       "0.8274456521739131"
      ]
     },
     "execution_count": 359,
     "metadata": {},
     "output_type": "execute_result"
    }
   ],
   "source": [
    "zopfli_compress(slim)"
   ]
  },
  {
   "cell_type": "code",
   "execution_count": 367,
   "metadata": {},
   "outputs": [
    {
     "data": {
      "text/plain": [
       "0.7273212379935966"
      ]
     },
     "execution_count": 367,
     "metadata": {},
     "output_type": "execute_result"
    }
   ],
   "source": [
    "zopfli_compress(gucci)"
   ]
  },
  {
   "cell_type": "code",
   "execution_count": 369,
   "metadata": {},
   "outputs": [
    {
     "data": {
      "text/plain": [
       "0.9774582199766809"
      ]
     },
     "execution_count": 369,
     "metadata": {},
     "output_type": "execute_result"
    }
   ],
   "source": [
    "zopfli_compress(world)"
   ]
  },
  {
   "cell_type": "code",
   "execution_count": null,
   "metadata": {},
   "outputs": [],
   "source": []
  },
  {
   "cell_type": "code",
   "execution_count": null,
   "metadata": {},
   "outputs": [],
   "source": []
  }
 ],
 "metadata": {
  "kernelspec": {
   "display_name": "Python 3",
   "language": "python",
   "name": "python3"
  },
  "language_info": {
   "codemirror_mode": {
    "name": "ipython",
    "version": 3
   },
   "file_extension": ".py",
   "mimetype": "text/x-python",
   "name": "python",
   "nbconvert_exporter": "python",
   "pygments_lexer": "ipython3",
   "version": "3.6.5"
  }
 },
 "nbformat": 4,
 "nbformat_minor": 2
}
