{
 "cells": [
  {
   "cell_type": "code",
   "execution_count": 12,
   "metadata": {
    "scrolled": true
   },
   "outputs": [],
   "source": [
    "from sklearn.model_selection import train_test_split, GridSearchCV\n",
    "from sklearn.ensemble import RandomForestClassifier\n",
    "from sklearn import svm\n",
    "from sklearn.utils import resample\n",
    "from imblearn.over_sampling import SMOTE, ADASYN\n",
    "from clean_data import *\n",
    "from collections import Counter\n",
    "from sklearn.metrics import confusion_matrix, f1_score, accuracy_score"
   ]
  },
  {
   "cell_type": "code",
   "execution_count": null,
   "metadata": {},
   "outputs": [],
   "source": []
  },
  {
   "cell_type": "code",
   "execution_count": null,
   "metadata": {},
   "outputs": [],
   "source": []
  },
  {
   "cell_type": "code",
   "execution_count": 20,
   "metadata": {},
   "outputs": [],
   "source": [
    "#initial test train split\n",
    "X_train, X_test, y_train, y_test = train_test_split(feature_nums, target, random_state=42)"
   ]
  },
  {
   "cell_type": "code",
   "execution_count": 21,
   "metadata": {},
   "outputs": [],
   "source": [
    "#SMOTE Oversampling\n",
    "X_resampled, y_resampled = SMOTE().fit_sample(feature_nums, target) \n",
    "X_train_smote, X_test_smote, y_train_smote, y_test_smote = train_test_split(X_resampled, y_resampled, random_state=42)"
   ]
  },
  {
   "cell_type": "code",
   "execution_count": 22,
   "metadata": {
    "scrolled": true
   },
   "outputs": [],
   "source": [
    "#MINORITY OVERSAMPLING\n",
    "# Separate majority and minority classes\n",
    "majority = final[final['is_hit']==0]\n",
    "minority = final[final['is_hit']==1]\n",
    " \n",
    "# Upsample minority class\n",
    "minority_upsampled = resample(minority, \n",
    "                                 replace=True,     # sample with replacement\n",
    "                                 n_samples=788,    # to match majority class\n",
    "                                 random_state=42) # reproducible results\n",
    " \n",
    "# Combine majority class with upsampled minority class\n",
    "upsampled = pd.concat([majority, minority_upsampled])\n",
    "upsampled_target = upsampled['is_hit']\n",
    "upsampled_features = upsampled.drop(columns=['Unnamed: 0', 'artist', 'album', 'song','features', \n",
    "                                   'lyrics', 'isrc', 'release_date',\n",
    "                                   'single_release', 'is_hit',  'listeners', 'playcount', 'playcount_percentage', 'track_no', 'unique-words'])\n",
    "\n",
    "\n",
    "X_train_upsampled, X_test_upsampled, y_train_upsampled, y_test_upsampled = train_test_split(upsampled_features, upsampled_target, random_state=42)\n"
   ]
  },
  {
   "cell_type": "code",
   "execution_count": 23,
   "metadata": {},
   "outputs": [],
   "source": [
    "#arrange all data splits in an array for Grid Search\n",
    "all_data_splits = [(X_train, X_test, y_train, y_test), (X_train_smote, X_test_smote, y_train_smote, y_test_smote),(X_train_upsampled, X_test_upsampled, y_train_upsampled, y_test_upsampled)]"
   ]
  },
  {
   "cell_type": "code",
   "execution_count": 24,
   "metadata": {},
   "outputs": [],
   "source": [
    "#setup param_grid for GridSearch\n",
    "param_grid = { \n",
    "    'n_estimators': [20,25,30,35,40,45,50,100],\n",
    "    'max_features': ['auto', 'sqrt', 'log2'],\n",
    "    'max_depth' : [5,10,15,20, 25],\n",
    "    'criterion' :['gini', 'entropy'], \n",
    "    'min_samples_leaf':[1,10,20,30,40,50,100]\n",
    "}"
   ]
  },
  {
   "cell_type": "code",
   "execution_count": 132,
   "metadata": {
    "scrolled": true
   },
   "outputs": [
    {
     "name": "stdout",
     "output_type": "stream",
     "text": [
      "{'criterion': 'gini', 'max_depth': 8, 'max_features': 'auto', 'min_samples_leaf': 1, 'n_estimators': 30}\n",
      "{'criterion': 'gini', 'max_depth': 11, 'max_features': 'log2', 'min_samples_leaf': 1, 'n_estimators': 30}\n",
      "{'criterion': 'gini', 'max_depth': 11, 'max_features': 'log2', 'min_samples_leaf': 1, 'n_estimators': 20}\n"
     ]
    }
   ],
   "source": [
    "#run grid search for all data splits - print best criteria for each group \n",
    "for data in all_data_splits: \n",
    "    try:\n",
    "        CV_forest = GridSearchCV(estimator=forest, param_grid=param_grid, cv= 5, n_jobs=-1)\n",
    "        CV_forest.fit(data[0], data[2])\n",
    "        print(CV_forest.best_params_)\n",
    "    except: \n",
    "        pass\n"
   ]
  },
  {
   "cell_type": "code",
   "execution_count": 43,
   "metadata": {},
   "outputs": [
    {
     "data": {
      "text/plain": [
       "RandomForestClassifier(bootstrap=True, class_weight=None, criterion='entropy',\n",
       "            max_depth=11, max_features='sqrt', max_leaf_nodes=None,\n",
       "            min_impurity_decrease=0.0, min_impurity_split=None,\n",
       "            min_samples_leaf=1, min_samples_split=2,\n",
       "            min_weight_fraction_leaf=0.0, n_estimators=30, n_jobs=None,\n",
       "            oob_score=False, random_state=None, verbose=0,\n",
       "            warm_start=False)"
      ]
     },
     "execution_count": 43,
     "metadata": {},
     "output_type": "execute_result"
    }
   ],
   "source": [
    "#no sampling\n",
    "forest = RandomForestClassifier(criterion='gini',\n",
    " max_depth=8,\n",
    " max_features='auto',\n",
    " n_estimators=30,\n",
    " min_samples_leaf=1)\n",
    "forest.fit(X_train, y_train)"
   ]
  },
  {
   "cell_type": "code",
   "execution_count": 44,
   "metadata": {},
   "outputs": [
    {
     "data": {
      "text/plain": [
       "0.8577405857740585"
      ]
     },
     "execution_count": 44,
     "metadata": {},
     "output_type": "execute_result"
    }
   ],
   "source": [
    "#no sampling\n",
    "forest.score(X_test, y_test)"
   ]
  },
  {
   "cell_type": "code",
   "execution_count": 45,
   "metadata": {},
   "outputs": [
    {
     "data": {
      "text/plain": [
       "RandomForestClassifier(bootstrap=True, class_weight=None, criterion='gini',\n",
       "            max_depth=11, max_features='sqrt', max_leaf_nodes=None,\n",
       "            min_impurity_decrease=0.0, min_impurity_split=None,\n",
       "            min_samples_leaf=1, min_samples_split=2,\n",
       "            min_weight_fraction_leaf=0.0, n_estimators=30, n_jobs=None,\n",
       "            oob_score=False, random_state=None, verbose=0,\n",
       "            warm_start=False)"
      ]
     },
     "execution_count": 45,
     "metadata": {},
     "output_type": "execute_result"
    }
   ],
   "source": [
    "#smote\n",
    "forest = RandomForestClassifier(criterion='gini',\n",
    " max_depth=11,\n",
    " max_features='sqrt',\n",
    " n_estimators=30)\n",
    "forest.fit(X_train_smote, y_train_smote)"
   ]
  },
  {
   "cell_type": "code",
   "execution_count": 46,
   "metadata": {
    "scrolled": true
   },
   "outputs": [
    {
     "data": {
      "text/plain": [
       "0.8044554455445545"
      ]
     },
     "execution_count": 46,
     "metadata": {},
     "output_type": "execute_result"
    }
   ],
   "source": [
    "forest.score(X_test_smote, y_test_smote)"
   ]
  },
  {
   "cell_type": "code",
   "execution_count": 54,
   "metadata": {
    "scrolled": true
   },
   "outputs": [
    {
     "data": {
      "text/plain": [
       "RandomForestClassifier(bootstrap=True, class_weight=None, criterion='gini',\n",
       "            max_depth=11, max_features='auto', max_leaf_nodes=None,\n",
       "            min_impurity_decrease=0.0, min_impurity_split=None,\n",
       "            min_samples_leaf=1, min_samples_split=2,\n",
       "            min_weight_fraction_leaf=0.0, n_estimators=100, n_jobs=None,\n",
       "            oob_score=False, random_state=None, verbose=0,\n",
       "            warm_start=False)"
      ]
     },
     "execution_count": 54,
     "metadata": {},
     "output_type": "execute_result"
    }
   ],
   "source": [
    "#min upsampling\n",
    "forest = RandomForestClassifier(criterion='gini',\n",
    " max_depth=11,\n",
    " max_features='auto',\n",
    " n_estimators=100)\n",
    "forest.fit(X_train_upsampled, y_train_upsampled)"
   ]
  },
  {
   "cell_type": "code",
   "execution_count": 104,
   "metadata": {
    "scrolled": true
   },
   "outputs": [
    {
     "data": {
      "text/plain": [
       "0.9523809523809523"
      ]
     },
     "execution_count": 104,
     "metadata": {},
     "output_type": "execute_result"
    }
   ],
   "source": [
    "forest.score(X_test_upsampled, y_test_upsampled)"
   ]
  },
  {
   "cell_type": "code",
   "execution_count": 107,
   "metadata": {},
   "outputs": [],
   "source": [
    "predictions = forest.predict(X_test_upsampled)"
   ]
  },
  {
   "cell_type": "code",
   "execution_count": 112,
   "metadata": {
    "scrolled": true
   },
   "outputs": [],
   "source": [
    "cm =confusion_matrix(y_test_upsampled, predictions)\n",
    "f1 = f1_score(y_test_upsampled, predictions)\n",
    "acc = accuracy_score(y_test_upsampled, predictions)"
   ]
  },
  {
   "cell_type": "code",
   "execution_count": 113,
   "metadata": {},
   "outputs": [
    {
     "name": "stdout",
     "output_type": "stream",
     "text": [
      "[[189  16]\n",
      " [  3 191]] 0.9526184538653366 0.9523809523809523\n"
     ]
    }
   ],
   "source": [
    "print(cm , f1 , acc)"
   ]
  },
  {
   "cell_type": "code",
   "execution_count": 103,
   "metadata": {},
   "outputs": [
    {
     "data": {
      "text/plain": [
       "{'danceability': 0.08049650285224573,\n",
       " 'energy': 0.11185365527670522,\n",
       " 'loudness': 0.14373310466331105,\n",
       " 'speechiness': 0.04965632338213511,\n",
       " 'liveness': 0.0823668270086988,\n",
       " 'tempo': 0.20844345570606623,\n",
       " 'valence': 0.1262673706790733,\n",
       " 'duration': 0.12136662628860195,\n",
       " 'repetetivness': 0.0758161341431626}"
      ]
     },
     "execution_count": 103,
     "metadata": {},
     "output_type": "execute_result"
    }
   ],
   "source": [
    "dict(zip(list(X_train.columns), forest.estimators_[0].feature_importances_))"
   ]
  },
  {
   "cell_type": "code",
   "execution_count": 118,
   "metadata": {},
   "outputs": [],
   "source": [
    "n = 100\n",
    "scores = []\n",
    "for i in range (0, n):\n",
    "    forest = RandomForestClassifier(criterion='gini',\n",
    "             max_depth=11,\n",
    "             max_features='auto',\n",
    "             n_estimators=100)\n",
    "    forest.fit(X_train_upsampled, y_train_upsampled)\n",
    "    f1 = f1_score(y_test_upsampled, predictions)\n",
    "    acc = accuracy_score(y_test_upsampled, predictions)\n",
    "    importance = forest.estimators_[0].feature_importances_\n",
    "    important_features = dict(zip(names, forest.estimators_[0].feature_importances_))\n",
    "    scores.append([acc, f1, important_features])"
   ]
  },
  {
   "cell_type": "code",
   "execution_count": 119,
   "metadata": {},
   "outputs": [
    {
     "name": "stdout",
     "output_type": "stream",
     "text": [
      "Accuracy Average: 0.9523809523809501\n",
      "F1 Score: 0.9526184538653374\n"
     ]
    },
    {
     "data": {
      "text/plain": [
       "{'danceability': 0.11470150136997795,\n",
       " 'energy': 0.11094961006270677,\n",
       " 'loudness': 0.12995929248869084,\n",
       " 'speechiness': 0.10841303592862891,\n",
       " 'liveness': 0.0939444106857131,\n",
       " 'tempo': 0.10640764573624706,\n",
       " 'valence': 0.11110573790944196,\n",
       " 'duration': 0.11024980332821191,\n",
       " 'repetetivness': 0.11426896249038145}"
      ]
     },
     "execution_count": 119,
     "metadata": {},
     "output_type": "execute_result"
    }
   ],
   "source": [
    "total = Counter({})\n",
    "accuracy_avg = 0 \n",
    "f1_score_avg = 0\n",
    "for i in scores:\n",
    "    count = Counter(i[2])\n",
    "    total = total + count\n",
    "    accuracy_avg += i[0]\n",
    "    f1_score_avg += i[1]\n",
    "    \n",
    "total = dict(total)\n",
    "importances = {k:total[k]/n for k in total}\n",
    "print(f'Accuracy Average: {accuracy_avg/n}')\n",
    "print(f'F1 Score: {f1_score_avg/n}')\n",
    "importances"
   ]
  },
  {
   "cell_type": "code",
   "execution_count": 28,
   "metadata": {},
   "outputs": [
    {
     "name": "stderr",
     "output_type": "stream",
     "text": [
      "/Users/vpatel2/anaconda3/envs/albums/lib/python3.7/site-packages/sklearn/svm/base.py:196: FutureWarning: The default value of gamma will change from 'auto' to 'scale' in version 0.22 to account better for unscaled features. Set gamma explicitly to 'auto' or 'scale' to avoid this warning.\n",
      "  \"avoid this warning.\", FutureWarning)\n"
     ]
    },
    {
     "data": {
      "text/plain": [
       "SVC(C=1.0, cache_size=200, class_weight=None, coef0=0.0,\n",
       "  decision_function_shape='ovr', degree=3, gamma='auto_deprecated',\n",
       "  kernel='rbf', max_iter=-1, probability=False, random_state=None,\n",
       "  shrinking=True, tol=0.001, verbose=False)"
      ]
     },
     "execution_count": 28,
     "metadata": {},
     "output_type": "execute_result"
    }
   ],
   "source": [
    "svm_clf = svm.SVC()\n",
    "svm_clf.fit(X_train, y_train)"
   ]
  },
  {
   "cell_type": "code",
   "execution_count": 29,
   "metadata": {},
   "outputs": [
    {
     "data": {
      "text/plain": [
       "0.8535564853556485"
      ]
     },
     "execution_count": 29,
     "metadata": {},
     "output_type": "execute_result"
    }
   ],
   "source": [
    "svm_clf.score(X_test, y_test)"
   ]
  },
  {
   "cell_type": "code",
   "execution_count": null,
   "metadata": {
    "scrolled": true
   },
   "outputs": [],
   "source": []
  },
  {
   "cell_type": "code",
   "execution_count": null,
   "metadata": {},
   "outputs": [],
   "source": []
  },
  {
   "cell_type": "code",
   "execution_count": null,
   "metadata": {},
   "outputs": [],
   "source": []
  },
  {
   "cell_type": "code",
   "execution_count": null,
   "metadata": {
    "scrolled": true
   },
   "outputs": [],
   "source": []
  },
  {
   "cell_type": "code",
   "execution_count": null,
   "metadata": {},
   "outputs": [],
   "source": []
  }
 ],
 "metadata": {
  "kernelspec": {
   "display_name": "albums",
   "language": "python",
   "name": "albums"
  }
 },
 "nbformat": 4,
 "nbformat_minor": 2
}
