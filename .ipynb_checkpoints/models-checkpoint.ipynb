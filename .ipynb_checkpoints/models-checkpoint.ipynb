{
 "cells": [
  {
   "cell_type": "code",
   "execution_count": 6,
   "metadata": {
    "scrolled": true
   },
   "outputs": [],
   "source": [
    "from sklearn.model_selection import train_test_split, GridSearchCV\n",
    "from sklearn.ensemble import RandomForestClassifier\n",
    "from sklearn import svm\n",
    "from sklearn.utils import resample\n",
    "from imblearn.over_sampling import SMOTE, ADASYN\n",
    "from collections import Counter\n",
    "from sklearn.metrics import confusion_matrix, f1_score, accuracy_score"
   ]
  },
  {
   "cell_type": "code",
   "execution_count": null,
   "metadata": {
    "collapsed": true
   },
   "outputs": [],
   "source": [
    "#clean and import data\n",
    "from feature_engineering import *\n",
    "\n",
    "#vars available:\n",
    "# feature_nums - numerical features of each song\n",
    "# target - whether song is a hit or not\n",
    "# final - complete dataframe"
   ]
  },
  {
   "cell_type": "code",
   "execution_count": null,
   "metadata": {},
   "outputs": [],
   "source": []
  },
  {
   "cell_type": "code",
   "execution_count": 17,
   "metadata": {},
   "outputs": [],
   "source": [
    "#initial test train split\n",
    "X_train, X_test, y_train, y_test = train_test_split(feature_nums, target, random_state=42)"
   ]
  },
  {
   "cell_type": "markdown",
   "metadata": {},
   "source": [
    "### Adjusting For Class Imbalance"
   ]
  },
  {
   "cell_type": "code",
   "execution_count": 18,
   "metadata": {},
   "outputs": [],
   "source": [
    "#SMOTE Oversampling\n",
    "X_resampled, y_resampled = SMOTE().fit_sample(feature_nums, target) \n",
    "X_train_smote, X_test_smote, y_train_smote, y_test_smote = train_test_split(X_resampled, y_resampled, random_state=42)"
   ]
  },
  {
   "cell_type": "code",
   "execution_count": 19,
   "metadata": {
    "scrolled": true
   },
   "outputs": [],
   "source": [
    "#MINORITY OVERSAMPLING\n",
    "# Separate majority and minority classes\n",
    "majority = final[final['is_hit']==0]\n",
    "minority = final[final['is_hit']==1]\n",
    " \n",
    "# Upsample minority class\n",
    "minority_upsampled = resample(minority, \n",
    "                                 replace=True,     # sample with replacement\n",
    "                                 n_samples=788,    # to match majority class\n",
    "                                 random_state=42) # reproducible results\n",
    " \n",
    "# Combine majority class with upsampled minority class\n",
    "upsampled = pd.concat([majority, minority_upsampled])\n",
    "upsampled_target = upsampled['is_hit']\n",
    "upsampled_features = upsampled.drop(columns=['Unnamed: 0', 'artist', 'album', 'song','features', \n",
    "                                   'lyrics', 'isrc', 'release_date',\n",
    "                                   'single_release', 'is_hit',  'listeners', 'playcount', 'playcount_percentage', 'track_no', 'unique-words'])\n",
    "\n",
    "\n",
    "X_train_upsampled, X_test_upsampled, y_train_upsampled, y_test_upsampled = train_test_split(upsampled_features, upsampled_target, random_state=42)\n"
   ]
  },
  {
   "cell_type": "markdown",
   "metadata": {},
   "source": [
    "### Random Forest"
   ]
  },
  {
   "cell_type": "code",
   "execution_count": 20,
   "metadata": {},
   "outputs": [],
   "source": [
    "#arrange all data splits in an array for Grid Search\n",
    "all_data_splits = [(X_train, X_test, y_train, y_test), (X_train_smote, X_test_smote, y_train_smote, y_test_smote),(X_train_upsampled, X_test_upsampled, y_train_upsampled, y_test_upsampled)]\n",
    "\n",
    "\n"
   ]
  },
  {
   "cell_type": "code",
   "execution_count": 21,
   "metadata": {},
   "outputs": [],
   "source": [
    "#setup param_grid for GridSearch\n",
    "param_grid = { \n",
    "    'n_estimators': [20,25,30,35,40,45,50,100],\n",
    "    'max_features': ['auto', 'sqrt', 'log2'],\n",
    "    'max_depth' : [5,10,15,20, 25],\n",
    "    'criterion' :['gini', 'entropy'], \n",
    "    'min_samples_leaf':[1,10,20,30,40,50,100]\n",
    "}"
   ]
  },
  {
   "cell_type": "code",
   "execution_count": 36,
   "metadata": {
    "scrolled": true
   },
   "outputs": [
    {
     "name": "stdout",
     "output_type": "stream",
     "text": [
      "{'criterion': 'gini', 'max_depth': 10, 'max_features': 'log2', 'min_samples_leaf': 1, 'n_estimators': 100}\n",
      "{'criterion': 'entropy', 'max_depth': 25, 'max_features': 'sqrt', 'min_samples_leaf': 1, 'n_estimators': 100}\n",
      "{'criterion': 'gini', 'max_depth': 25, 'max_features': 'sqrt', 'min_samples_leaf': 1, 'n_estimators': 40}\n"
     ]
    }
   ],
   "source": [
    "#run grid search for all data splits - print best criteria for each group \n",
    "for data in all_data_splits:\n",
    "    try:\n",
    "        CV_forest = GridSearchCV(estimator=forest, param_grid=param_grid, cv= 5, n_jobs=-1)\n",
    "        CV_forest.fit(data[0], data[2])\n",
    "        print(CV_forest.best_params_)\n",
    "    except: \n",
    "        print('fail')\n"
   ]
  },
  {
   "cell_type": "code",
   "execution_count": 46,
   "metadata": {},
   "outputs": [
    {
     "data": {
      "text/plain": [
       "RandomForestClassifier(bootstrap=True, class_weight=None, criterion='gini',\n",
       "            max_depth=10, max_features='log2', max_leaf_nodes=None,\n",
       "            min_impurity_decrease=0.0, min_impurity_split=None,\n",
       "            min_samples_leaf=1, min_samples_split=2,\n",
       "            min_weight_fraction_leaf=0.0, n_estimators=100, n_jobs=None,\n",
       "            oob_score=False, random_state=None, verbose=0,\n",
       "            warm_start=False)"
      ]
     },
     "execution_count": 46,
     "metadata": {},
     "output_type": "execute_result"
    }
   ],
   "source": [
    "#no sampling\n",
    "forest = RandomForestClassifier(criterion='gini',\n",
    " max_depth=10,\n",
    " max_features='log2',\n",
    " n_estimators=100,\n",
    " min_samples_leaf=1)\n",
    "forest.fit(X_train, y_train)"
   ]
  },
  {
   "cell_type": "code",
   "execution_count": 47,
   "metadata": {},
   "outputs": [
    {
     "data": {
      "text/plain": [
       "0.8535564853556485"
      ]
     },
     "execution_count": 47,
     "metadata": {},
     "output_type": "execute_result"
    }
   ],
   "source": [
    "#no sampling\n",
    "forest.score(X_test, y_test)"
   ]
  },
  {
   "cell_type": "code",
   "execution_count": 48,
   "metadata": {},
   "outputs": [
    {
     "data": {
      "text/plain": [
       "RandomForestClassifier(bootstrap=True, class_weight=None, criterion='gini',\n",
       "            max_depth=25, max_features='sqrt', max_leaf_nodes=None,\n",
       "            min_impurity_decrease=0.0, min_impurity_split=None,\n",
       "            min_samples_leaf=1, min_samples_split=2,\n",
       "            min_weight_fraction_leaf=0.0, n_estimators=100, n_jobs=None,\n",
       "            oob_score=False, random_state=None, verbose=0,\n",
       "            warm_start=False)"
      ]
     },
     "execution_count": 48,
     "metadata": {},
     "output_type": "execute_result"
    }
   ],
   "source": [
    "#smote\n",
    "forest_smote = RandomForestClassifier(criterion='gini',\n",
    " max_depth=25,\n",
    " max_features='sqrt',\n",
    " n_estimators=100)\n",
    "forest_smote.fit(X_train_smote, y_train_smote)"
   ]
  },
  {
   "cell_type": "code",
   "execution_count": 90,
   "metadata": {
    "scrolled": true
   },
   "outputs": [
    {
     "data": {
      "text/plain": [
       "0.8786610878661087"
      ]
     },
     "execution_count": 90,
     "metadata": {},
     "output_type": "execute_result"
    }
   ],
   "source": [
    "forest_smote.score(X_test_smote, y_test_smote)"
   ]
  },
  {
   "cell_type": "code",
   "execution_count": 66,
   "metadata": {
    "scrolled": true
   },
   "outputs": [
    {
     "data": {
      "text/plain": [
       "RandomForestClassifier(bootstrap=True, class_weight=None, criterion='gini',\n",
       "            max_depth=25, max_features='auto', max_leaf_nodes=None,\n",
       "            min_impurity_decrease=0.0, min_impurity_split=None,\n",
       "            min_samples_leaf=1, min_samples_split=2,\n",
       "            min_weight_fraction_leaf=0.0, n_estimators=100, n_jobs=None,\n",
       "            oob_score=False, random_state=None, verbose=0,\n",
       "            warm_start=False)"
      ]
     },
     "execution_count": 66,
     "metadata": {},
     "output_type": "execute_result"
    }
   ],
   "source": [
    "#min upsampling\n",
    "forest_min = RandomForestClassifier(criterion='gini',\n",
    " max_depth=25,\n",
    " max_features='auto',\n",
    " n_estimators=100)\n",
    "forest_min.fit(X_train_upsampled, y_train_upsampled)"
   ]
  },
  {
   "cell_type": "code",
   "execution_count": 91,
   "metadata": {
    "scrolled": true
   },
   "outputs": [
    {
     "data": {
      "text/plain": [
       "0.9699248120300752"
      ]
     },
     "execution_count": 91,
     "metadata": {},
     "output_type": "execute_result"
    }
   ],
   "source": [
    "forest_min.score(X_test_upsampled, y_test_upsampled)"
   ]
  },
  {
   "cell_type": "code",
   "execution_count": 155,
   "metadata": {},
   "outputs": [],
   "source": [
    "predictions = forest_min.predict(X_test_upsampled)"
   ]
  },
  {
   "cell_type": "code",
   "execution_count": 156,
   "metadata": {
    "scrolled": true
   },
   "outputs": [],
   "source": [
    "cm = confusion_matrix(y_test_upsampled, predictions)\n",
    "f1 = f1_score(y_test_upsampled, predictions)\n",
    "acc = accuracy_score(y_test_upsampled, predictions)"
   ]
  },
  {
   "cell_type": "code",
   "execution_count": 157,
   "metadata": {},
   "outputs": [
    {
     "name": "stdout",
     "output_type": "stream",
     "text": [
      "Confusion Matrix [[196   9]\n",
      " [  3 191]]\n",
      "F1 Score 0.9695431472081217\n",
      "Accuracy 0.9699248120300752\n"
     ]
    }
   ],
   "source": [
    "print('Confusion Matrix', cm)\n",
    "print('F1 Score', f1)\n",
    "print('Accuracy', acc)"
   ]
  },
  {
   "cell_type": "code",
   "execution_count": 158,
   "metadata": {
    "scrolled": true
   },
   "outputs": [
    {
     "data": {
      "text/plain": [
       "{'danceability': 0.0924973092927971,\n",
       " 'energy': 0.07755833507069701,\n",
       " 'loudness': 0.1583201118443566,\n",
       " 'speechiness': 0.0417418074669148,\n",
       " 'liveness': 0.14733431967232702,\n",
       " 'tempo': 0.16466620387021555,\n",
       " 'valence': 0.08440851529198654,\n",
       " 'duration': 0.1263401693197076,\n",
       " 'repetetivness': 0.10713322817099775}"
      ]
     },
     "execution_count": 158,
     "metadata": {},
     "output_type": "execute_result"
    }
   ],
   "source": [
    "#\n",
    "dict(zip(list(X_train.columns), forest_min.estimators_[0].feature_importances_))"
   ]
  },
  {
   "cell_type": "code",
   "execution_count": 159,
   "metadata": {},
   "outputs": [],
   "source": [
    "names = dict(zip(list(X_train.columns), forest_min.estimators_[0].feature_importances_)).keys()"
   ]
  },
  {
   "cell_type": "code",
   "execution_count": 160,
   "metadata": {},
   "outputs": [],
   "source": [
    "\n",
    "n = 100\n",
    "scores = []\n",
    "for i in range (0, n):\n",
    "    forest = RandomForestClassifier(criterion='gini',\n",
    "             max_depth=25,\n",
    "             max_features='auto',\n",
    "             n_estimators=100)\n",
    "    forest.fit(X_train_upsampled, y_train_upsampled)\n",
    "    f1 = f1_score(y_test_upsampled, predictions)\n",
    "    acc = accuracy_score(y_test_upsampled, predictions)\n",
    "    importance = forest.estimators_[0].feature_importances_\n",
    "    important_features = dict(zip(names, forest.estimators_[0].feature_importances_))\n",
    "    scores.append([acc, f1, important_features])"
   ]
  },
  {
   "cell_type": "code",
   "execution_count": 161,
   "metadata": {
    "scrolled": false
   },
   "outputs": [
    {
     "name": "stdout",
     "output_type": "stream",
     "text": [
      "Accuracy Average: 0.9699248120300734\n",
      "F1 Score: 0.9695431472081235\n"
     ]
    }
   ],
   "source": [
    "total = Counter({})\n",
    "accuracy_avg = 0 \n",
    "f1_score_avg = 0\n",
    "for i in scores:\n",
    "    count = Counter(i[2])\n",
    "    total = total + count\n",
    "    accuracy_avg += i[0]\n",
    "    f1_score_avg += i[1]\n",
    "    \n",
    "total = dict(total)\n",
    "importances = {k:total[k]/n for k in total}\n",
    "print(f'Accuracy Average: {accuracy_avg/n}')\n",
    "print(f'F1 Score: {f1_score_avg/n}')"
   ]
  },
  {
   "cell_type": "markdown",
   "metadata": {},
   "source": [
    "### Support Vector Machine"
   ]
  },
  {
   "cell_type": "code",
   "execution_count": 164,
   "metadata": {},
   "outputs": [
    {
     "name": "stderr",
     "output_type": "stream",
     "text": [
      "/Users/vpatel2/anaconda3/envs/album-hits/lib/python3.7/site-packages/sklearn/svm/base.py:196: FutureWarning: The default value of gamma will change from 'auto' to 'scale' in version 0.22 to account better for unscaled features. Set gamma explicitly to 'auto' or 'scale' to avoid this warning.\n",
      "  \"avoid this warning.\", FutureWarning)\n"
     ]
    },
    {
     "data": {
      "text/plain": [
       "SVC(C=1000, cache_size=200, class_weight=None, coef0=0.0,\n",
       "  decision_function_shape='ovr', degree=3, gamma='auto_deprecated',\n",
       "  kernel='sigmoid', max_iter=-1, probability=False, random_state=None,\n",
       "  shrinking=True, tol=0.001, verbose=False)"
      ]
     },
     "execution_count": 164,
     "metadata": {},
     "output_type": "execute_result"
    }
   ],
   "source": [
    "svm_clf = svm.SVC(kernel='sigmoid', C=1000)\n",
    "svm_clf.fit(X_train_upsampled, y_train_upsampled)"
   ]
  },
  {
   "cell_type": "code",
   "execution_count": 165,
   "metadata": {},
   "outputs": [
    {
     "data": {
      "text/plain": [
       "0.5137844611528822"
      ]
     },
     "execution_count": 165,
     "metadata": {},
     "output_type": "execute_result"
    }
   ],
   "source": [
    "svm_clf.score(X_test_upsampled, y_test_upsampled)"
   ]
  },
  {
   "cell_type": "code",
   "execution_count": 151,
   "metadata": {
    "scrolled": true
   },
   "outputs": [],
   "source": [
    "predictions = svm_clf.predict(X_test_upsampled)"
   ]
  },
  {
   "cell_type": "code",
   "execution_count": 152,
   "metadata": {},
   "outputs": [],
   "source": [
    "cm = confusion_matrix(y_test_upsampled, predictions)\n",
    "f1 = f1_score(y_test_upsampled, predictions)\n",
    "acc = accuracy_score(y_test_upsampled, predictions)"
   ]
  },
  {
   "cell_type": "code",
   "execution_count": 153,
   "metadata": {},
   "outputs": [
    {
     "name": "stdout",
     "output_type": "stream",
     "text": [
      "Confusion Matrix [[192  13]\n",
      " [  3 191]]\n",
      "F1 Score 0.9597989949748744\n",
      "Accuracy 0.9598997493734336\n"
     ]
    }
   ],
   "source": [
    "print('Confusion Matrix', cm)\n",
    "print('F1 Score', f1)\n",
    "print('Accuracy', acc)"
   ]
  },
  {
   "cell_type": "code",
   "execution_count": null,
   "metadata": {
    "scrolled": true
   },
   "outputs": [],
   "source": []
  },
  {
   "cell_type": "code",
   "execution_count": null,
   "metadata": {},
   "outputs": [],
   "source": []
  }
 ],
 "metadata": {
  "kernelspec": {
   "display_name": "album-hits",
   "language": "python",
   "name": "album-hits"
  },
  "language_info": {
   "codemirror_mode": {
    "name": "ipython",
    "version": 3
   },
   "file_extension": ".py",
   "mimetype": "text/x-python",
   "name": "python",
   "nbconvert_exporter": "python",
   "pygments_lexer": "ipython3",
   "version": "3.7.3"
  }
 },
 "nbformat": 4,
 "nbformat_minor": 2
}
