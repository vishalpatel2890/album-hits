{
 "cells": [
  {
   "cell_type": "code",
   "execution_count": 54,
   "metadata": {},
   "outputs": [],
   "source": [
    "from scrape_billboard import *\n",
    "import requests\n",
    "import pandas as pd\n",
    "import warnings\n",
    "warnings.filterwarnings('ignore')"
   ]
  },
  {
   "cell_type": "code",
   "execution_count": 55,
   "metadata": {},
   "outputs": [],
   "source": [
    "#goal = album or track\n",
    "#send request to lastfm (for album or track data) and return json obj for album or track\n",
    "def geturl(goal,artist,title):\n",
    "    url='https://ws.audioscrobbler.com/2.0/?method={}.getinfo&artist={}&api_key=cbe33f95f9dc5877b258dea8d58c9e14&{}&extended=1&format=json'\n",
    "    artist = artist.replace(' ', '+')\n",
    "    title = goal+'='+title.replace(' ', '+')\n",
    "    url=url.format(goal,artist,title)\n",
    "    rec=None\n",
    "    try:\n",
    "        rec=requests.get(url).json()\n",
    "    except:\n",
    "        pass\n",
    "    return rec"
   ]
  },
  {
   "cell_type": "code",
   "execution_count": 59,
   "metadata": {
    "scrolled": false
   },
   "outputs": [],
   "source": [
    "#fetch album data and all data for songs on track\n",
    "def getalbum(artist,title):\n",
    "    missed = []\n",
    "    try:\n",
    "        json=geturl('album',artist,title)\n",
    "        artist = json['album']['artist']\n",
    "        album = json['album']['name']\n",
    "        tracks_data = json['album']['tracks']['track']\n",
    "        tracks_row = [[track['name'], track['duration'], track['@attr']['rank'], getsong(artist, track['name'])] for track in tracks_data]\n",
    "        row_dict = []\n",
    "        for row in tracks_row:\n",
    "            row_dict.append({'artist': artist, 'album': album, 'track-title':row[0], 'duration': row[1], \n",
    "                            'track_no': row[2], 'listeners': row[3][0], 'playcount': row[3][1], 'single_release': row[3][2]})\n",
    "        tracklist = pd.DataFrame(row_dict)\n",
    "        return tracklist\n",
    "    except:\n",
    "        #log missed albums\n",
    "        missed.append((artist, title))\n",
    "        "
   ]
  },
  {
   "cell_type": "code",
   "execution_count": null,
   "metadata": {},
   "outputs": [],
   "source": []
  },
  {
   "cell_type": "code",
   "execution_count": 60,
   "metadata": {},
   "outputs": [],
   "source": [
    "#get single song data\n",
    "def getsong(artist,title):\n",
    "    trackrelease=None\n",
    "    try:\n",
    "        song=geturl('track',artist,title)\n",
    "    except:\n",
    "        pass\n",
    "    try:\n",
    "        listeners=(song['track']['listeners'])\n",
    "    except:\n",
    "        pass\n",
    "    try:\n",
    "        playcount=(song['track']['playcount'])\n",
    "    except:\n",
    "        pass\n",
    "    try:\n",
    "        trackrelease=(song['track']['wiki']['published'])\n",
    "    except:\n",
    "        pass \n",
    "    return listeners, playcount,trackrelease"
   ]
  },
  {
   "cell_type": "code",
   "execution_count": 61,
   "metadata": {},
   "outputs": [],
   "source": []
  },
  {
   "cell_type": "code",
   "execution_count": 92,
   "metadata": {},
   "outputs": [],
   "source": [
    "#albums to scrape\n",
    "albums2018 = scrape_billboard_albums(billboard_url)"
   ]
  },
  {
   "cell_type": "code",
   "execution_count": 63,
   "metadata": {},
   "outputs": [
    {
     "name": "stdout",
     "output_type": "stream",
     "text": [
      "Khalid American Teen\n",
      "Juice WRLD Goodbye %26 Good Riddance\n",
      "Luke Combs This One's For You\n",
      "Kane Brown Kane Brown\n",
      "G-Eazy The Beautiful %26 Damned\n",
      "Chris Brown Heartbreak On A Full Moon\n",
      "Drake Views\n",
      "Rae Sremmurd SR3MM\n",
      "Miguel War %27 Leisure\n",
      "Wiz Khalifa Rolling Papers 2\n",
      "The Chainsmokers Memories%2E%2E%2EDo Not Open\n",
      "DJ Khaled Grateful\n",
      "Trippie Redd A Love Letter To You\n",
      "Drake If you're reading this it's too late\n",
      "Charlie Puth Voicenotes\n",
      "U2 Songs Of Experience\n"
     ]
    }
   ],
   "source": [
    "df=pd.DataFrame()\n",
    "for album in albums2018:\n",
    "    project = getalbum(album[0],album[1])\n",
    "    df = pd.concat([df,project])"
   ]
  },
  {
   "cell_type": "code",
   "execution_count": 65,
   "metadata": {},
   "outputs": [],
   "source": [
    "#write to csv\n",
    "df.to_csv('./lastfm.csv')"
   ]
  },
  {
   "cell_type": "code",
   "execution_count": 62,
   "metadata": {},
   "outputs": [],
   "source": []
  },
  {
   "cell_type": "code",
   "execution_count": null,
   "metadata": {},
   "outputs": [],
   "source": []
  },
  {
   "cell_type": "code",
   "execution_count": null,
   "metadata": {},
   "outputs": [],
   "source": []
  },
  {
   "cell_type": "code",
   "execution_count": null,
   "metadata": {},
   "outputs": [],
   "source": []
  },
  {
   "cell_type": "code",
   "execution_count": null,
   "metadata": {},
   "outputs": [],
   "source": []
  }
 ],
 "metadata": {
  "kernelspec": {
   "display_name": "Python 3",
   "language": "python",
   "name": "python3"
  },
  "language_info": {
   "codemirror_mode": {
    "name": "ipython",
    "version": 3
   },
   "file_extension": ".py",
   "mimetype": "text/x-python",
   "name": "python",
   "nbconvert_exporter": "python",
   "pygments_lexer": "ipython3",
   "version": "3.6.5"
  }
 },
 "nbformat": 4,
 "nbformat_minor": 2
}
