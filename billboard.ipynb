{
 "cells": [
  {
   "cell_type": "code",
   "execution_count": 56,
   "metadata": {},
   "outputs": [],
   "source": [
    "import requests\n",
    "import re\n",
    "from bs4 import BeautifulSoup"
   ]
  },
  {
   "cell_type": "code",
   "execution_count": 1,
   "metadata": {},
   "outputs": [
    {
     "name": "stdout",
     "output_type": "stream",
     "text": [
      "Info: numba.jit seems to be available.\n"
     ]
    }
   ],
   "source": [
    "from lempel_ziv_complexity import lempel_ziv_complexity"
   ]
  },
  {
   "cell_type": "code",
   "execution_count": 28,
   "metadata": {},
   "outputs": [
    {
     "data": {
      "text/plain": [
       "59"
      ]
     },
     "execution_count": 28,
     "metadata": {},
     "output_type": "execute_result"
    }
   ],
   "source": [
    "lempel_ziv_complexity(s)"
   ]
  },
  {
   "cell_type": "code",
   "execution_count": 27,
   "metadata": {},
   "outputs": [],
   "source": [
    "s = '''baby I dont need dollar bills to have fun tonight\n",
    "I love cheap thrills\n",
    "baby I dont need dollar bills to have fun tonight\n",
    "I love cheap thrills\n",
    "I dont need no money\n",
    "as long as I can feel the beat\n",
    "I dont need no money\n",
    "as long as I keep dancing'''"
   ]
  },
  {
   "cell_type": "code",
   "execution_count": 21,
   "metadata": {},
   "outputs": [
    {
     "data": {
      "text/plain": [
       "0.7541666666666667"
      ]
     },
     "execution_count": 21,
     "metadata": {},
     "output_type": "execute_result"
    }
   ],
   "source": [
    "(240-59)/240"
   ]
  },
  {
   "cell_type": "code",
   "execution_count": 40,
   "metadata": {},
   "outputs": [],
   "source": [
    "join = \"\".join(s.split())"
   ]
  },
  {
   "cell_type": "code",
   "execution_count": 30,
   "metadata": {},
   "outputs": [
    {
     "data": {
      "text/plain": [
       "189"
      ]
     },
     "execution_count": 30,
     "metadata": {},
     "output_type": "execute_result"
    }
   ],
   "source": []
  },
  {
   "cell_type": "code",
   "execution_count": 132,
   "metadata": {},
   "outputs": [],
   "source": []
  },
  {
   "cell_type": "code",
   "execution_count": null,
   "metadata": {},
   "outputs": [],
   "source": []
  },
  {
   "cell_type": "markdown",
   "metadata": {},
   "source": []
  },
  {
   "cell_type": "code",
   "execution_count": 31,
   "metadata": {},
   "outputs": [],
   "source": [
    "def lzw_encode(data):\n",
    "    code, code_bits = {bytes([i]): i for i in range(256)}, 8\n",
    "    buffer, buffer_bits = 0, 0\n",
    "    index, aux = 0, []\n",
    "    while index < len(data):\n",
    "        # find word\n",
    "        for j in range(index + 1, len(data) + 1):\n",
    "            word = data[index:j]\n",
    "            # store word\n",
    "            if word not in code:\n",
    "                code[word] = len(code)\n",
    "                word = word[:-1]\n",
    "                break\n",
    "        # write buffer\n",
    "        buffer <<= code_bits\n",
    "        buffer |= code[word]\n",
    "        buffer_bits += code_bits\n",
    "        # code length\n",
    "        if len(code) > 2 ** code_bits:\n",
    "            code_bits += 1\n",
    "        # shift\n",
    "        index += len(word)\n",
    "        # buffer alignment\n",
    "        if index >= len(data) and buffer_bits % 8:\n",
    "            r = 8 - (buffer_bits % 8)\n",
    "            buffer <<= r\n",
    "            buffer_bits += r\n",
    "        # emit output\n",
    "        if not buffer_bits % 8:\n",
    "            aux += int.to_bytes(buffer, buffer_bits >> 3, 'big')\n",
    "            buffer, buffer_bits = 0, 0\n",
    "    return bytes(aux)"
   ]
  },
  {
   "cell_type": "code",
   "execution_count": 32,
   "metadata": {},
   "outputs": [],
   "source": [
    "def compress(data):\n",
    "    encoded = lzw_encode(data.encode('ASCII'))\n",
    "    decoded = lzw_decode(encoded).decode('ASCII')\n",
    "    assert data == decoded\n",
    "    \n",
    "    print('compression', len(data), '->', len(encoded), 'bytes')"
   ]
  },
  {
   "cell_type": "code",
   "execution_count": 33,
   "metadata": {},
   "outputs": [],
   "source": [
    "def lzw_decode(data):\n",
    "    code, code_bits = {i: bytes([i]) for i in range(256)}, 8\n",
    "    buffer, buffer_bits = 0, 0\n",
    "    index, aux = 0, []\n",
    "    prefix = b''\n",
    "\n",
    "    while index < len(data) or buffer_bits >= code_bits:\n",
    "        # read buffer\n",
    "        while index < len(data) and buffer_bits < code_bits:\n",
    "            buffer <<= 8\n",
    "            buffer |= data[index]\n",
    "            buffer_bits += 8\n",
    "            index += 1\n",
    "\n",
    "        # find word\n",
    "        buffer_bits -= code_bits\n",
    "        key = buffer >> buffer_bits\n",
    "        buffer &= (1 << buffer_bits) - 1\n",
    "        word = code.get(key, prefix + prefix[:1])\n",
    "\n",
    "        # store word\n",
    "        if prefix:\n",
    "            code[len(code)] = prefix + word[:1]\n",
    "        prefix = word\n",
    "\n",
    "        # code length\n",
    "        if len(code) >= 2 ** code_bits:\n",
    "            code_bits += 1\n",
    "\n",
    "        # emit output\n",
    "        aux += word\n",
    "        \n",
    "    return bytes(aux)"
   ]
  },
  {
   "cell_type": "code",
   "execution_count": 41,
   "metadata": {},
   "outputs": [
    {
     "name": "stdout",
     "output_type": "stream",
     "text": [
      "compression 189 -> 143 bytes\n"
     ]
    }
   ],
   "source": [
    "compress(join)"
   ]
  },
  {
   "cell_type": "code",
   "execution_count": 43,
   "metadata": {},
   "outputs": [
    {
     "data": {
      "text/plain": [
       "0.7566137566137566"
      ]
     },
     "execution_count": 43,
     "metadata": {},
     "output_type": "execute_result"
    }
   ],
   "source": [
    "143/189"
   ]
  },
  {
   "cell_type": "code",
   "execution_count": 37,
   "metadata": {},
   "outputs": [
    {
     "data": {
      "text/plain": [
       "0.29583333333333334"
      ]
     },
     "execution_count": 37,
     "metadata": {},
     "output_type": "execute_result"
    }
   ],
   "source": [
    "(240-169)/240"
   ]
  },
  {
   "cell_type": "code",
   "execution_count": 38,
   "metadata": {},
   "outputs": [],
   "source": [
    "x = '''tonight I need dollar bills\n",
    "I don't keep fun\n",
    "cheap thrills long to feel money\n",
    "the bills don't need the dancing baby\n",
    "fun dollar dancing thrills the baby I need\n",
    "don't have fun\n",
    "no no don't have dancing fun tonight\n",
    "beat the can as I don't feel thrills\n",
    "love the dancing money'''"
   ]
  },
  {
   "cell_type": "code",
   "execution_count": 39,
   "metadata": {},
   "outputs": [
    {
     "name": "stdout",
     "output_type": "stream",
     "text": [
      "compression 270 -> 183 bytes\n"
     ]
    }
   ],
   "source": [
    "compress(x)"
   ]
  },
  {
   "cell_type": "code",
   "execution_count": null,
   "metadata": {},
   "outputs": [],
   "source": []
  }
 ],
 "metadata": {
  "kernelspec": {
   "display_name": "Python 3",
   "language": "python",
   "name": "python3"
  },
  "language_info": {
   "codemirror_mode": {
    "name": "ipython",
    "version": 3
   },
   "file_extension": ".py",
   "mimetype": "text/x-python",
   "name": "python",
   "nbconvert_exporter": "python",
   "pygments_lexer": "ipython3",
   "version": "3.6.5"
  }
 },
 "nbformat": 4,
 "nbformat_minor": 2
}
