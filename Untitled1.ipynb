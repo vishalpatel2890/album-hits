{
 "cells": [
  {
   "cell_type": "code",
   "execution_count": 2,
   "metadata": {},
   "outputs": [],
   "source": [
    "import requests\n",
    "import pandas as pd\n",
    "import warnings\n",
    "warnings.filterwarnings('ignore')"
   ]
  },
  {
   "cell_type": "code",
   "execution_count": 3,
   "metadata": {},
   "outputs": [],
   "source": [
    "#goal = album or track\n",
    "def geturl(goal,artist,title):\n",
    "    url='https://ws.audioscrobbler.com/2.0/?method={}.getinfo&artist={}&api_key=cbe33f95f9dc5877b258dea8d58c9e14&{}&extended=1&format=json'\n",
    "    artist = artist.replace(' ', '+')\n",
    "    title = goal+'='+title.replace(' ', '+')\n",
    "    url=url.format(goal,artist,title)\n",
    "    rec=None\n",
    "    try:\n",
    "        rec=requests.get(url).json()\n",
    "    except:\n",
    "        pass\n",
    "    return rec"
   ]
  },
  {
   "cell_type": "code",
   "execution_count": null,
   "metadata": {},
   "outputs": [],
   "source": []
  },
  {
   "cell_type": "code",
   "execution_count": 4,
   "metadata": {},
   "outputs": [],
   "source": [
    "df=pd.DataFrame()  #df is the full, with all the tracks\n",
    "#SEARCH ALBUM |ARTIST, ALBUM|\n",
    "df['Artist']= None\n",
    "df['Album']= None\n",
    "df['TrackNum']= None\n",
    "df['Title']= None\n",
    "# df['AlbumRelease']= None\n",
    "df['Duration']=None\n",
    "df['Tag1']=None\n",
    "df['Tag2']=None\n",
    "\n",
    "#SEARCH TRACK |ARTIST, SONG|\n",
    "df['Listeners']= None\n",
    "df['PlayCount']= None\n",
    "df['TrackRelease']=None\n",
    "\n",
    "# #SEACH TRACKS AS ALBUMS |ARTIST,SONG|\n",
    "# df['SListeners']=None\n",
    "# df['SPlayCount']=None\n",
    "# df ['SRelease']=None\n",
    "# df['STracks']=None"
   ]
  },
  {
   "cell_type": "code",
   "execution_count": 5,
   "metadata": {},
   "outputs": [],
   "source": [
    "tracklist=pd.DataFrame() #the album here\n",
    "\n",
    "tracklist['Artist']=None\n",
    "tracklist['Album']=None\n",
    "tracklist['TrackNum']=None\n",
    "tracklist['Title']=None\n",
    "tracklist['Duration']=None\n",
    "# tracklist['AlbumRelease']=None\n",
    "tracklist['Tag1']=None\n",
    "tracklist['Tag2']=None\n",
    "tracklist['Tracks']=None\n",
    "counter=0"
   ]
  },
  {
   "cell_type": "code",
   "execution_count": 13,
   "metadata": {},
   "outputs": [],
   "source": [
    "def getalbum(artist,title):\n",
    "    tracklist=pd.DataFrame()\n",
    "    json=geturl('album',artist,title)\n",
    "    print(json)\n",
    "    album = []\n",
    "    artist = []\n",
    "    released8 = []\n",
    "    tracknum = []\n",
    "    tracktitle = []\n",
    "    duration = []\n",
    "    twotags = []\n",
    "    tag1 = []\n",
    "    tag2 = []\n",
    "    length = []\n",
    "    \n",
    "    try:\n",
    "        item =  json['album']['tags']['tag']\n",
    "    except:\n",
    "        pass\n",
    "    \n",
    "    try:\n",
    "        if item[0]['name'].isdigit() != True:\n",
    "            twotags.append((item[0]['name']))\n",
    "        else:\n",
    "            twotags.append((item[1]['name']))\n",
    "            twotags.append((item[2]['name']))\n",
    "    except:\n",
    "        pass\n",
    "    \n",
    "            \n",
    "    try:\n",
    "        for item in json['album']['tracks']['track']:\n",
    "            tracktitle.append(item['album']['tracks']['track']['name'])\n",
    "            duration.append(item['duration'])\n",
    "            tracknum.append(item['@attr']['rank'])\n",
    "            artist.append(item['artist']['name'])\n",
    "            album.append(json['album']['name'])\n",
    "            try: \n",
    "                released8.append(json['album']['wiki']['published'])\n",
    "            except:\n",
    "                pass\n",
    "            try:\n",
    "                tag1.append(twotags[0])\n",
    "            except:\n",
    "                pass\n",
    "            try:\n",
    "                tag2.append(twotags[1])\n",
    "            except:\n",
    "                pass\n",
    "            length.append(len(json['album']['tracks']['track']))\n",
    "    except:\n",
    "        pass\n",
    "    tracklist['Artist']=artist\n",
    "    tracklist['Album']=album\n",
    "    \n",
    "    try:\n",
    "        print(json['album']['name'])\n",
    "        \n",
    "    except:\n",
    "        pass\n",
    "    tracklist['TrackNum']=tracknum\n",
    "    tracklist['Title']=tracktitle\n",
    "    tracklist['Duration']=duration\n",
    "    try:\n",
    "        tracklist['Tag1']=tag1\n",
    "    except:\n",
    "        pass\n",
    "    try:\n",
    "        tracklist['Tag2']=tag2\n",
    "    except:\n",
    "        pass\n",
    "    tracklist['Tracks']=length\n",
    "    return tracklist"
   ]
  },
  {
   "cell_type": "code",
   "execution_count": 85,
   "metadata": {
    "scrolled": false
   },
   "outputs": [],
   "source": [
    "def getalbum(artist,title):\n",
    "    try:\n",
    "        json=geturl('album',artist,title)\n",
    "        artist = json['album']['artist']\n",
    "        album = json['album']['name']\n",
    "        tracks_data = json['album']['tracks']['track']\n",
    "        tracks_row = [[track['name'], track['duration'], track['@attr']['rank'], getsong(artist, track['name'])] for track in tracks_data]\n",
    "        row_dict = []\n",
    "        for row in tracks_row:\n",
    "            row_dict.append({'artist': artist, 'album': album, 'track-title':row[0], 'duration': row[1], \n",
    "                            'track_no': row[2], 'listeners': row[3][0], 'playcount': row[3][1], 'single_release': row[3][2]})\n",
    "        tracklist = pd.DataFrame(row_dict)\n",
    "        return tracklist\n",
    "    except:\n",
    "        print (artist, title)"
   ]
  },
  {
   "cell_type": "code",
   "execution_count": null,
   "metadata": {
    "scrolled": true
   },
   "outputs": [],
   "source": []
  },
  {
   "cell_type": "code",
   "execution_count": 86,
   "metadata": {},
   "outputs": [],
   "source": [
    "df=pd.DataFrame()"
   ]
  },
  {
   "cell_type": "code",
   "execution_count": null,
   "metadata": {},
   "outputs": [],
   "source": []
  },
  {
   "cell_type": "code",
   "execution_count": null,
   "metadata": {},
   "outputs": [],
   "source": []
  },
  {
   "cell_type": "code",
   "execution_count": 7,
   "metadata": {},
   "outputs": [],
   "source": []
  },
  {
   "cell_type": "code",
   "execution_count": 87,
   "metadata": {},
   "outputs": [],
   "source": [
    "def getsong(artist,title):\n",
    "    trackrelease=None\n",
    "    song=geturl('track',artist,title)\n",
    "    listeners=(song['track']['listeners'])\n",
    "    playcount=(song['track']['playcount'])\n",
    "    try:\n",
    "        trackrelease=(song['track']['wiki']['published'])\n",
    "    except:\n",
    "        pass \n",
    "    return listeners, playcount,trackrelease"
   ]
  },
  {
   "cell_type": "code",
   "execution_count": null,
   "metadata": {},
   "outputs": [],
   "source": []
  },
  {
   "cell_type": "code",
   "execution_count": 10,
   "metadata": {},
   "outputs": [],
   "source": [
    "from scrape_billboard import *"
   ]
  },
  {
   "cell_type": "code",
   "execution_count": 84,
   "metadata": {},
   "outputs": [
    {
     "data": {
      "text/plain": [
       "200"
      ]
     },
     "execution_count": 84,
     "metadata": {},
     "output_type": "execute_result"
    }
   ],
   "source": [
    "albums2018 = scrape_billboard_albums(billboard_url)\n",
    "len(albums2018)"
   ]
  },
  {
   "cell_type": "code",
   "execution_count": 88,
   "metadata": {},
   "outputs": [
    {
     "name": "stdout",
     "output_type": "stream",
     "text": [
      "Post Malone beerbongs & bentleys\n",
      "Travis Scott ASTROWORLD\n",
      "Migos Culture II \n",
      "Soundtrack Black Panther: The Album, Music From And Inspired By\n",
      "Khalid American Teen\n",
      "Juice WRLD Goodbye & Good Riddance\n",
      "Luke Combs This One's For You\n",
      "Lil Wayne Tha Carter V\n",
      "Kane Brown Kane Brown\n",
      "Chris Brown Heartbreak On A Full Moon\n",
      "G-Eazy The Beautiful & Damned\n",
      "Jason Aldean  Rearview Town\n",
      "Lady Gaga & Bradley Cooper A Star Is Born (Soundtrack)\n",
      "Nicki Minaj Queen\n",
      "21 Savage, Offset & Metro Boomin Without Warning\n",
      "Drake Views\n",
      "Shawn Mendes  Shawn Mendes\n",
      "Brett Young Brett Young\n",
      "Bob Marley And The Wailers Legend: The Best Of Bob Marley And The Wailers\n",
      "Russ There's Really A Wolf\n",
      "Kendrick Lamar  good kid, m.A.A.d city\n",
      "Creedence Clearwater Revival Featuring John Fogerty Chronicle The 20 Greatest Hits\n",
      "Jon Pardi California Sunrise\n",
      "Lil Baby & Gunna Drip Harder\n",
      "Rae Sremmurd, Swae Lee & Slim Jxmmi SR3MM\n",
      " Miguel War & Leisure\n",
      "Florida Georgia Line Dig Your Roots\n",
      "Jhene Aiko Trip\n",
      "Wiz Khalifa Rolling Papers 2\n",
      "The Chainsmokers Memories...Do Not Open\n",
      "Charlie Puth Voicenotes\n",
      "U2 Songs Of Experience\n",
      "The Notorious B.I.G. Greatest Hits\n",
      "Garth Brooks The Anthology: Part I, The First Five Years\n",
      "Drake If You're Reading This It's Too Late\n",
      "Kanye West The Life Of Pablo \n",
      "Soundtrack 13 Reasons Why, Season 2\n",
      "Bob Seger & The Silver Bullet Band Greatest Hits\n",
      "Michael Buble Christmas\n",
      "Thomas Rhett Tangled Up\n",
      "DJ Khaled Grateful\n",
      "Trippie Redd A Love Letter To You\n",
      "2Pac Greatest Hits\n",
      "Tim McGraw & Faith Hill The Rest Of Our Life\n",
      "Blake Shelton Reloaded: 20 #1 Hits\n",
      "Soundtrack  The Fate Of The Furious: The Album\n",
      "Kenny Chesney Live In No Shoes Nation\n"
     ]
    }
   ],
   "source": [
    "for i in albums2018:\n",
    "    project = getalbum(i[0],i[1])\n",
    "    df = pd.concat([df,project])"
   ]
  },
  {
   "cell_type": "code",
   "execution_count": 91,
   "metadata": {},
   "outputs": [],
   "source": [
    "df.to_csv('./lastfm.csv')"
   ]
  },
  {
   "cell_type": "code",
   "execution_count": null,
   "metadata": {},
   "outputs": [],
   "source": []
  },
  {
   "cell_type": "code",
   "execution_count": null,
   "metadata": {},
   "outputs": [],
   "source": []
  },
  {
   "cell_type": "code",
   "execution_count": null,
   "metadata": {},
   "outputs": [],
   "source": []
  }
 ],
 "metadata": {
  "kernelspec": {
   "display_name": "Python 3",
   "language": "python",
   "name": "python3"
  },
  "language_info": {
   "codemirror_mode": {
    "name": "ipython",
    "version": 3
   },
   "file_extension": ".py",
   "mimetype": "text/x-python",
   "name": "python",
   "nbconvert_exporter": "python",
   "pygments_lexer": "ipython3",
   "version": "3.6.5"
  }
 },
 "nbformat": 4,
 "nbformat_minor": 2
}
