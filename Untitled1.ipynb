{
 "cells": [
  {
   "cell_type": "code",
   "execution_count": 54,
   "metadata": {},
   "outputs": [],
   "source": [
    "import requests\n",
    "import pandas as pd\n",
    "import warnings\n",
    "warnings.filterwarnings('ignore')"
   ]
  },
  {
   "cell_type": "code",
   "execution_count": 55,
   "metadata": {},
   "outputs": [],
   "source": [
    "#goal = album or track\n",
    "def geturl(goal,artist,title):\n",
    "    url='https://ws.audioscrobbler.com/2.0/?method={}.getinfo&artist={}&api_key=cbe33f95f9dc5877b258dea8d58c9e14&{}&extended=1&format=json'\n",
    "    artist = artist.replace(' ', '+')\n",
    "    title = goal+'='+title.replace(' ', '+')\n",
    "    url=url.format(goal,artist,title)\n",
    "    rec=None\n",
    "    try:\n",
    "        rec=requests.get(url).json()\n",
    "    except:\n",
    "        pass\n",
    "    return rec"
   ]
  },
  {
   "cell_type": "code",
   "execution_count": null,
   "metadata": {},
   "outputs": [],
   "source": []
  },
  {
   "cell_type": "code",
   "execution_count": 56,
   "metadata": {},
   "outputs": [],
   "source": [
    "df=pd.DataFrame()  #df is the full, with all the tracks\n",
    "#SEARCH ALBUM |ARTIST, ALBUM|\n",
    "df['Artist']= None\n",
    "df['Album']= None\n",
    "df['TrackNum']= None\n",
    "df['Title']= None\n",
    "# df['AlbumRelease']= None\n",
    "df['Duration']=None\n",
    "df['Tag1']=None\n",
    "df['Tag2']=None\n",
    "\n",
    "#SEARCH TRACK |ARTIST, SONG|\n",
    "df['Listeners']= None\n",
    "df['PlayCount']= None\n",
    "df['TrackRelease']=None\n",
    "\n",
    "# #SEACH TRACKS AS ALBUMS |ARTIST,SONG|\n",
    "# df['SListeners']=None\n",
    "# df['SPlayCount']=None\n",
    "# df ['SRelease']=None\n",
    "# df['STracks']=None"
   ]
  },
  {
   "cell_type": "code",
   "execution_count": 57,
   "metadata": {},
   "outputs": [],
   "source": [
    "tracklist=pd.DataFrame() #the album here\n",
    "\n",
    "tracklist['Artist']=None\n",
    "tracklist['Album']=None\n",
    "tracklist['TrackNum']=None\n",
    "tracklist['Title']=None\n",
    "tracklist['Duration']=None\n",
    "# tracklist['AlbumRelease']=None\n",
    "tracklist['Tag1']=None\n",
    "tracklist['Tag2']=None\n",
    "tracklist['Tracks']=None\n",
    "counter=0"
   ]
  },
  {
   "cell_type": "code",
   "execution_count": 58,
   "metadata": {},
   "outputs": [],
   "source": [
    "def getalbum(artist,title):\n",
    "    tracklist=pd.DataFrame()\n",
    "    json=geturl('album',artist,title)\n",
    "    print(json)\n",
    "    album = []\n",
    "    artist = []\n",
    "    released8 = []\n",
    "    tracknum = []\n",
    "    tracktitle = []\n",
    "    duration = []\n",
    "    twotags = []\n",
    "    tag1 = []\n",
    "    tag2 = []\n",
    "    length = []\n",
    "    \n",
    "    try:\n",
    "        item =  json['album']['tags']['tag']\n",
    "    except:\n",
    "        pass\n",
    "    \n",
    "    try:\n",
    "        if item[0]['name'].isdigit() != True:\n",
    "            twotags.append((item[0]['name']))\n",
    "        else:\n",
    "            twotags.append((item[1]['name']))\n",
    "            twotags.append((item[2]['name']))\n",
    "    except:\n",
    "        pass\n",
    "    \n",
    "            \n",
    "    try:\n",
    "        for item in json['album']['tracks']['track']:\n",
    "            tracktitle.append(item['album']['tracks']['track']['name'])\n",
    "            duration.append(item['duration'])\n",
    "            tracknum.append(item['@attr']['rank'])\n",
    "            artist.append(item['artist']['name'])\n",
    "            album.append(json['album']['name'])\n",
    "            try: \n",
    "                released8.append(json['album']['wiki']['published'])\n",
    "            except:\n",
    "                pass\n",
    "            try:\n",
    "                tag1.append(twotags[0])\n",
    "            except:\n",
    "                pass\n",
    "            try:\n",
    "                tag2.append(twotags[1])\n",
    "            except:\n",
    "                pass\n",
    "            length.append(len(json['album']['tracks']['track']))\n",
    "    except:\n",
    "        pass\n",
    "    tracklist['Artist']=artist\n",
    "    tracklist['Album']=album\n",
    "    \n",
    "    try:\n",
    "        print(json['album']['name'])\n",
    "        \n",
    "    except:\n",
    "        pass\n",
    "    tracklist['TrackNum']=tracknum\n",
    "    tracklist['Title']=tracktitle\n",
    "    tracklist['Duration']=duration\n",
    "    try:\n",
    "        tracklist['Tag1']=tag1\n",
    "    except:\n",
    "        pass\n",
    "    try:\n",
    "        tracklist['Tag2']=tag2\n",
    "    except:\n",
    "        pass\n",
    "    tracklist['Tracks']=length\n",
    "    return tracklist"
   ]
  },
  {
   "cell_type": "code",
   "execution_count": 59,
   "metadata": {
    "scrolled": false
   },
   "outputs": [],
   "source": [
    "def getalbum(artist,title):\n",
    "    try:\n",
    "        json=geturl('album',artist,title)\n",
    "        artist = json['album']['artist']\n",
    "        album = json['album']['name']\n",
    "        tracks_data = json['album']['tracks']['track']\n",
    "        tracks_row = [[track['name'], track['duration'], track['@attr']['rank'], getsong(artist, track['name'])] for track in tracks_data]\n",
    "        row_dict = []\n",
    "        for row in tracks_row:\n",
    "            row_dict.append({'artist': artist, 'album': album, 'track-title':row[0], 'duration': row[1], \n",
    "                            'track_no': row[2], 'listeners': row[3][0], 'playcount': row[3][1], 'single_release': row[3][2]})\n",
    "        tracklist = pd.DataFrame(row_dict)\n",
    "        return tracklist\n",
    "    except:\n",
    "        print (artist, title)"
   ]
  },
  {
   "cell_type": "code",
   "execution_count": null,
   "metadata": {
    "scrolled": true
   },
   "outputs": [],
   "source": []
  },
  {
   "cell_type": "code",
   "execution_count": 10,
   "metadata": {},
   "outputs": [],
   "source": [
    "df=pd.DataFrame()"
   ]
  },
  {
   "cell_type": "code",
   "execution_count": null,
   "metadata": {},
   "outputs": [],
   "source": []
  },
  {
   "cell_type": "code",
   "execution_count": null,
   "metadata": {},
   "outputs": [],
   "source": []
  },
  {
   "cell_type": "code",
   "execution_count": null,
   "metadata": {},
   "outputs": [],
   "source": []
  },
  {
   "cell_type": "code",
   "execution_count": 60,
   "metadata": {},
   "outputs": [],
   "source": [
    "def getsong(artist,title):\n",
    "    trackrelease=None\n",
    "    try:\n",
    "        song=geturl('track',artist,title)\n",
    "    except:\n",
    "        pass\n",
    "    try:\n",
    "        listeners=(song['track']['listeners'])\n",
    "    except:\n",
    "        pass\n",
    "    try:\n",
    "        playcount=(song['track']['playcount'])\n",
    "    except:\n",
    "        pass\n",
    "    try:\n",
    "        trackrelease=(song['track']['wiki']['published'])\n",
    "    except:\n",
    "        pass \n",
    "    return listeners, playcount,trackrelease"
   ]
  },
  {
   "cell_type": "code",
   "execution_count": null,
   "metadata": {},
   "outputs": [],
   "source": []
  },
  {
   "cell_type": "code",
   "execution_count": 61,
   "metadata": {},
   "outputs": [],
   "source": [
    "from scrape_billboard import *"
   ]
  },
  {
   "cell_type": "code",
   "execution_count": 2,
   "metadata": {},
   "outputs": [
    {
     "data": {
      "text/plain": [
       "200"
      ]
     },
     "execution_count": 2,
     "metadata": {},
     "output_type": "execute_result"
    }
   ],
   "source": [
    "albums2018 = scrape_billboard_albums(billboard_url)\n",
    "len(albums2018)"
   ]
  },
  {
   "cell_type": "code",
   "execution_count": 63,
   "metadata": {},
   "outputs": [
    {
     "name": "stdout",
     "output_type": "stream",
     "text": [
      "Khalid American Teen\n",
      "Juice WRLD Goodbye %26 Good Riddance\n",
      "Luke Combs This One's For You\n",
      "Kane Brown Kane Brown\n",
      "G-Eazy The Beautiful %26 Damned\n",
      "Chris Brown Heartbreak On A Full Moon\n",
      "Drake Views\n",
      "Rae Sremmurd SR3MM\n",
      "Miguel War %27 Leisure\n",
      "Wiz Khalifa Rolling Papers 2\n",
      "The Chainsmokers Memories%2E%2E%2EDo Not Open\n",
      "DJ Khaled Grateful\n",
      "Trippie Redd A Love Letter To You\n",
      "Drake If you're reading this it's too late\n",
      "Charlie Puth Voicenotes\n",
      "U2 Songs Of Experience\n"
     ]
    }
   ],
   "source": [
    "for i in missed:\n",
    "    project = getalbum(i[0],i[1])\n",
    "    df = pd.concat([df,project])"
   ]
  },
  {
   "cell_type": "code",
   "execution_count": 65,
   "metadata": {},
   "outputs": [],
   "source": [
    "df.to_csv('./lastfmmissed.csv')"
   ]
  },
  {
   "cell_type": "code",
   "execution_count": 62,
   "metadata": {},
   "outputs": [],
   "source": [
    "missed =[('Travis $cott', 'ASTROWORLD'), ('Migos', 'Culture II'), \n",
    " ('Khalid','American Teen'),('Post Malone','Beerbongs %26 Bentleys'),\n",
    " ('Juice WRLD', 'Goodbye %26 Good Riddance'), ('Luke Combs', \"This One's For You\"),\n",
    " ('Lil%27 Wayne', 'Tha Carter V'),('Kane Brown', 'Kane Brown'),\n",
    " ('G-Eazy', 'The Beautiful %26 Damned'),('Chris Brown', 'Heartbreak On A Full Moon'),\n",
    " ('21 Savage', 'Without Warning'), ('Drake','Views'),\n",
    " ('Shawn Mendes','Shawn Mendes'),\n",
    " ('Kendrick Lamar', 'good+kid,+m.A.A.d+city'),\n",
    " ('Lil Baby', 'Drip Harder'), ('Rae Sremmurd', 'SR3MM'),\n",
    " ('Miguel', 'War %27 Leisure'), ('Jhené+Aiko', 'TRIP'),\n",
    " ('Wiz Khalifa', 'Rolling Papers 2'), ('The Chainsmokers', \"Memories%2E%2E%2EDo Not Open\"),\n",
    " ('DJ Khaled', 'Grateful'),('Trippie Redd', 'A Love Letter To You'),('Kanye West', 'The Life Of Pablo'),\n",
    " ('Drake',\"If you're reading this it's too late\"),('Charlie Puth', 'Voicenotes'),\n",
    " ('U2', 'Songs Of Experience')]"
   ]
  },
  {
   "cell_type": "code",
   "execution_count": 64,
   "metadata": {},
   "outputs": [
    {
     "data": {
      "text/plain": [
       "26"
      ]
     },
     "execution_count": 64,
     "metadata": {},
     "output_type": "execute_result"
    }
   ],
   "source": [
    "len(missed)"
   ]
  },
  {
   "cell_type": "code",
   "execution_count": 50,
   "metadata": {},
   "outputs": [
    {
     "data": {
      "text/plain": [
       "{'album': {'name': \"If You're Reading This It's Too Late\",\n",
       "  'artist': 'Drake',\n",
       "  'url': 'https://www.last.fm/music/Drake/If+You%27re+Reading+This+It%27s+Too+Late',\n",
       "  'image': [{'#text': 'https://lastfm-img2.akamaized.net/i/u/34s/9f25933143434b6ccb25d7214133f34e.png',\n",
       "    'size': 'small'},\n",
       "   {'#text': 'https://lastfm-img2.akamaized.net/i/u/64s/9f25933143434b6ccb25d7214133f34e.png',\n",
       "    'size': 'medium'},\n",
       "   {'#text': 'https://lastfm-img2.akamaized.net/i/u/174s/9f25933143434b6ccb25d7214133f34e.png',\n",
       "    'size': 'large'},\n",
       "   {'#text': 'https://lastfm-img2.akamaized.net/i/u/300x300/9f25933143434b6ccb25d7214133f34e.png',\n",
       "    'size': 'extralarge'},\n",
       "   {'#text': 'https://lastfm-img2.akamaized.net/i/u/300x300/9f25933143434b6ccb25d7214133f34e.png',\n",
       "    'size': 'mega'},\n",
       "   {'#text': 'https://lastfm-img2.akamaized.net/i/u/300x300/9f25933143434b6ccb25d7214133f34e.png',\n",
       "    'size': ''}],\n",
       "  'listeners': '305824',\n",
       "  'playcount': '10974182',\n",
       "  'tracks': {'track': [{'name': 'Legend',\n",
       "     'url': 'https://www.last.fm/music/Drake/_/Legend',\n",
       "     'duration': '241',\n",
       "     '@attr': {'rank': '1'},\n",
       "     'streamable': {'#text': '0', 'fulltrack': '0'},\n",
       "     'artist': {'name': 'Drake',\n",
       "      'mbid': 'b49b81cc-d5b7-4bdd-aadb-385df8de69a6',\n",
       "      'url': 'https://www.last.fm/music/Drake'}},\n",
       "    {'name': 'Energy',\n",
       "     'url': 'https://www.last.fm/music/Drake/_/Energy',\n",
       "     'duration': '177',\n",
       "     '@attr': {'rank': '2'},\n",
       "     'streamable': {'#text': '0', 'fulltrack': '0'},\n",
       "     'artist': {'name': 'Drake',\n",
       "      'mbid': 'b49b81cc-d5b7-4bdd-aadb-385df8de69a6',\n",
       "      'url': 'https://www.last.fm/music/Drake'}},\n",
       "    {'name': '10 Bands',\n",
       "     'url': 'https://www.last.fm/music/Drake/_/10+Bands',\n",
       "     'duration': '177',\n",
       "     '@attr': {'rank': '3'},\n",
       "     'streamable': {'#text': '0', 'fulltrack': '0'},\n",
       "     'artist': {'name': 'Drake',\n",
       "      'mbid': 'b49b81cc-d5b7-4bdd-aadb-385df8de69a6',\n",
       "      'url': 'https://www.last.fm/music/Drake'}},\n",
       "    {'name': 'Know Yourself',\n",
       "     'url': 'https://www.last.fm/music/Drake/_/Know+Yourself',\n",
       "     'duration': '275',\n",
       "     '@attr': {'rank': '4'},\n",
       "     'streamable': {'#text': '0', 'fulltrack': '0'},\n",
       "     'artist': {'name': 'Drake',\n",
       "      'mbid': 'b49b81cc-d5b7-4bdd-aadb-385df8de69a6',\n",
       "      'url': 'https://www.last.fm/music/Drake'}},\n",
       "    {'name': \"No Tellin'\",\n",
       "     'url': 'https://www.last.fm/music/Drake/_/No+Tellin%27',\n",
       "     'duration': '310',\n",
       "     '@attr': {'rank': '5'},\n",
       "     'streamable': {'#text': '0', 'fulltrack': '0'},\n",
       "     'artist': {'name': 'Drake',\n",
       "      'mbid': 'b49b81cc-d5b7-4bdd-aadb-385df8de69a6',\n",
       "      'url': 'https://www.last.fm/music/Drake'}},\n",
       "    {'name': 'Madonna',\n",
       "     'url': 'https://www.last.fm/music/Drake/_/Madonna',\n",
       "     'duration': '177',\n",
       "     '@attr': {'rank': '6'},\n",
       "     'streamable': {'#text': '0', 'fulltrack': '0'},\n",
       "     'artist': {'name': 'Drake',\n",
       "      'mbid': 'b49b81cc-d5b7-4bdd-aadb-385df8de69a6',\n",
       "      'url': 'https://www.last.fm/music/Drake'}},\n",
       "    {'name': '6 God',\n",
       "     'url': 'https://www.last.fm/music/Drake/_/6+God',\n",
       "     'duration': '180',\n",
       "     '@attr': {'rank': '7'},\n",
       "     'streamable': {'#text': '0', 'fulltrack': '0'},\n",
       "     'artist': {'name': 'Drake',\n",
       "      'mbid': 'b49b81cc-d5b7-4bdd-aadb-385df8de69a6',\n",
       "      'url': 'https://www.last.fm/music/Drake'}},\n",
       "    {'name': 'Star67',\n",
       "     'url': 'https://www.last.fm/music/Drake/_/Star67',\n",
       "     'duration': '294',\n",
       "     '@attr': {'rank': '8'},\n",
       "     'streamable': {'#text': '0', 'fulltrack': '0'},\n",
       "     'artist': {'name': 'Drake',\n",
       "      'mbid': 'b49b81cc-d5b7-4bdd-aadb-385df8de69a6',\n",
       "      'url': 'https://www.last.fm/music/Drake'}},\n",
       "    {'name': 'Preach',\n",
       "     'url': 'https://www.last.fm/music/Drake/_/Preach',\n",
       "     'duration': '238',\n",
       "     '@attr': {'rank': '9'},\n",
       "     'streamable': {'#text': '0', 'fulltrack': '0'},\n",
       "     'artist': {'name': 'Drake',\n",
       "      'mbid': 'b49b81cc-d5b7-4bdd-aadb-385df8de69a6',\n",
       "      'url': 'https://www.last.fm/music/Drake'}},\n",
       "    {'name': 'Wednesday Night Interlude',\n",
       "     'url': 'https://www.last.fm/music/Drake/_/Wednesday+Night+Interlude',\n",
       "     'duration': '212',\n",
       "     '@attr': {'rank': '10'},\n",
       "     'streamable': {'#text': '0', 'fulltrack': '0'},\n",
       "     'artist': {'name': 'Drake',\n",
       "      'mbid': 'b49b81cc-d5b7-4bdd-aadb-385df8de69a6',\n",
       "      'url': 'https://www.last.fm/music/Drake'}},\n",
       "    {'name': 'Used To',\n",
       "     'url': 'https://www.last.fm/music/Drake/_/Used+To',\n",
       "     'duration': '268',\n",
       "     '@attr': {'rank': '11'},\n",
       "     'streamable': {'#text': '0', 'fulltrack': '0'},\n",
       "     'artist': {'name': 'Drake',\n",
       "      'mbid': 'b49b81cc-d5b7-4bdd-aadb-385df8de69a6',\n",
       "      'url': 'https://www.last.fm/music/Drake'}},\n",
       "    {'name': '6 Man',\n",
       "     'url': 'https://www.last.fm/music/Drake/_/6+Man',\n",
       "     'duration': '167',\n",
       "     '@attr': {'rank': '12'},\n",
       "     'streamable': {'#text': '0', 'fulltrack': '0'},\n",
       "     'artist': {'name': 'Drake',\n",
       "      'mbid': 'b49b81cc-d5b7-4bdd-aadb-385df8de69a6',\n",
       "      'url': 'https://www.last.fm/music/Drake'}},\n",
       "    {'name': 'Now & Forever',\n",
       "     'url': 'https://www.last.fm/music/Drake/_/Now+&+Forever',\n",
       "     'duration': '281',\n",
       "     '@attr': {'rank': '13'},\n",
       "     'streamable': {'#text': '0', 'fulltrack': '0'},\n",
       "     'artist': {'name': 'Drake',\n",
       "      'mbid': 'b49b81cc-d5b7-4bdd-aadb-385df8de69a6',\n",
       "      'url': 'https://www.last.fm/music/Drake'}},\n",
       "    {'name': 'Company',\n",
       "     'url': 'https://www.last.fm/music/Drake/_/Company',\n",
       "     'duration': '252',\n",
       "     '@attr': {'rank': '14'},\n",
       "     'streamable': {'#text': '0', 'fulltrack': '0'},\n",
       "     'artist': {'name': 'Drake',\n",
       "      'mbid': 'b49b81cc-d5b7-4bdd-aadb-385df8de69a6',\n",
       "      'url': 'https://www.last.fm/music/Drake'}},\n",
       "    {'name': 'You & the 6',\n",
       "     'url': 'https://www.last.fm/music/Drake/_/You+&+the+6',\n",
       "     'duration': '264',\n",
       "     '@attr': {'rank': '15'},\n",
       "     'streamable': {'#text': '0', 'fulltrack': '0'},\n",
       "     'artist': {'name': 'Drake',\n",
       "      'mbid': 'b49b81cc-d5b7-4bdd-aadb-385df8de69a6',\n",
       "      'url': 'https://www.last.fm/music/Drake'}},\n",
       "    {'name': 'Jungle',\n",
       "     'url': 'https://www.last.fm/music/Drake/_/Jungle',\n",
       "     'duration': '320',\n",
       "     '@attr': {'rank': '16'},\n",
       "     'streamable': {'#text': '0', 'fulltrack': '0'},\n",
       "     'artist': {'name': 'Drake',\n",
       "      'mbid': 'b49b81cc-d5b7-4bdd-aadb-385df8de69a6',\n",
       "      'url': 'https://www.last.fm/music/Drake'}},\n",
       "    {'name': '6PM in New York',\n",
       "     'url': 'https://www.last.fm/music/Drake/_/6PM+in+New+York',\n",
       "     'duration': '283',\n",
       "     '@attr': {'rank': '17'},\n",
       "     'streamable': {'#text': '0', 'fulltrack': '0'},\n",
       "     'artist': {'name': 'Drake',\n",
       "      'mbid': 'b49b81cc-d5b7-4bdd-aadb-385df8de69a6',\n",
       "      'url': 'https://www.last.fm/music/Drake'}}]},\n",
       "  'tags': {'tag': [{'name': '2015', 'url': 'https://www.last.fm/tag/2015'},\n",
       "    {'name': 'Hip-Hop', 'url': 'https://www.last.fm/tag/Hip-Hop'},\n",
       "    {'name': 'rap', 'url': 'https://www.last.fm/tag/rap'},\n",
       "    {'name': 'ovo', 'url': 'https://www.last.fm/tag/ovo'},\n",
       "    {'name': 'albums I own', 'url': 'https://www.last.fm/tag/albums+I+own'}]},\n",
       "  'wiki': {'published': '11 Aug 2015, 12:38',\n",
       "   'summary': 'The album is the fourth compilation / \"project\" album by Canadian Drake, released on iTunes, without any prior promotion warning, in February 2015. It debuted at number 1 on the US\\' Billboard 200 chart. On August 7, 2015, it became the first platinum album released in 2015, exceeding 1m album sales (US sales). <a href=\"http://www.last.fm/music/Drake/If+You%27re+Reading+This+It%27s+Too+Late\">Read more on Last.fm</a>.',\n",
       "   'content': 'The album is the fourth compilation / \"project\" album by Canadian Drake, released on iTunes, without any prior promotion warning, in February 2015. It debuted at number 1 on the US\\' Billboard 200 chart. On August 7, 2015, it became the first platinum album released in 2015, exceeding 1m album sales (US sales). <a href=\"http://www.last.fm/music/Drake/If+You%27re+Reading+This+It%27s+Too+Late\">Read more on Last.fm</a>. User-contributed text is available under the Creative Commons By-SA License; additional terms may apply.'}}}"
      ]
     },
     "execution_count": 50,
     "metadata": {},
     "output_type": "execute_result"
    }
   ],
   "source": [
    "geturl('album','Drake',\"If you're reading this it's too late\")"
   ]
  },
  {
   "cell_type": "code",
   "execution_count": null,
   "metadata": {},
   "outputs": [],
   "source": [
    "#posty stuff\n",
    "\"\"\"\n",
    "“Paranoid”\n",
    "“Spoil My Night” feat. Swae Lee\n",
    "“Rich & Sad”\n",
    "“Zack and Codeine”\n",
    "“Takin' Shots”\n",
    "“rockstar” feat. 21 Savage\n",
    "“Over Now”\n",
    "“Psycho” feat. Ty Dolla $ign\n",
    "“Better Now”\n",
    "“Ball For Me” feat. Nicki Minaj\n",
    "“Otherside”\n",
    "“Stay”\n",
    "“Blame It On Me”\n",
    "“Same Bitches” feat. G-Eazy & YG\n",
    "“Jonestown (Interlude)”\n",
    "“92 Explorer”\n",
    "“Candy Paint”\n",
    "“Sugar Wraith”\n",
    "\"\"\""
   ]
  }
 ],
 "metadata": {
  "kernelspec": {
   "display_name": "Python 3",
   "language": "python",
   "name": "python3"
  },
  "language_info": {
   "codemirror_mode": {
    "name": "ipython",
    "version": 3
   },
   "file_extension": ".py",
   "mimetype": "text/x-python",
   "name": "python",
   "nbconvert_exporter": "python",
   "pygments_lexer": "ipython3",
   "version": "3.6.7"
  }
 },
 "nbformat": 4,
 "nbformat_minor": 2
}
